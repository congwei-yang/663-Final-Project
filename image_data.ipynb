{
 "cells": [
  {
   "cell_type": "code",
   "execution_count": 1,
   "metadata": {},
   "outputs": [
    {
     "name": "stdout",
     "output_type": "stream",
     "text": [
      "Processing /Users/zhl/Desktop/STA663/663-Final-Project\n",
      "Building wheels for collected packages: Sinkhorn-663\n",
      "  Building wheel for Sinkhorn-663 (setup.py) ... \u001b[?25ldone\n",
      "\u001b[?25h  Created wheel for Sinkhorn-663: filename=Sinkhorn_663-0.1-cp38-cp38-macosx_10_14_x86_64.whl size=73342 sha256=52b0af48c4a203be783cc7a44bc91953bea5672d21b79e32a8189f8c2e2614ab\n",
      "  Stored in directory: /Users/zhl/Library/Caches/pip/wheels/1a/76/06/b0a69c1679d15dab7ce9e0bf10f4156709ee008b80382a1721\n",
      "Successfully built Sinkhorn-663\n",
      "Installing collected packages: Sinkhorn-663\n",
      "  Attempting uninstall: Sinkhorn-663\n",
      "    Found existing installation: Sinkhorn-663 0.1\n",
      "    Uninstalling Sinkhorn-663-0.1:\n",
      "      Successfully uninstalled Sinkhorn-663-0.1\n",
      "Successfully installed Sinkhorn-663-0.1\n",
      "\u001b[33mWARNING: You are using pip version 21.0.1; however, version 21.1 is available.\n",
      "You should consider upgrading via the '/Users/zhl/opt/anaconda3/bin/python -m pip install --upgrade pip' command.\u001b[0m\n"
     ]
    }
   ],
   "source": [
    "# install our package\n",
    "! pip install ."
   ]
  },
  {
   "cell_type": "code",
   "execution_count": 145,
   "metadata": {},
   "outputs": [],
   "source": [
    "import Sinkhorn_663 as sh"
   ]
  },
  {
   "cell_type": "code",
   "execution_count": 2,
   "metadata": {},
   "outputs": [],
   "source": [
    "from Sinkhorn_663 import Sinkhorn, log_domain_sinkhorn_2, Sinkhorn_numba, Sinkhorn_numba_parallel\n",
    "from Sinkhorn_663 import sample_to_prob_vec, sample_to_prob_vec_nD\n",
    "from Sinkhorn_663.image import cost_mat, flatten\n",
    "from Skh_cpp import Sinkhorn_cpp\n",
    "import numpy as np\n",
    "import matplotlib.pyplot as plt"
   ]
  },
  {
   "cell_type": "markdown",
   "metadata": {},
   "source": [
    "# Applications to real data sets"
   ]
  },
  {
   "cell_type": "markdown",
   "metadata": {},
   "source": [
    "According to the requirement, we also find one other real-world data set not in the original paper and test it. Because optimal transport distances are computed for theoretical probability measures, it's hard to find real data sets which can directly use this method and describe the result. Therefore, we decide to use image data, distances between image matrix can be interpreted as the difference between images. The image data we choose is [CalTech 101 Silhouettes Data Set](https://people.cs.umass.edu/~marlin/data.shtml). According to the description of this data, each image in the CalTech 101 data set includes a high-quality polygon outline of the primary object in the scene. The outline is rendered as a filled, black polygon on a white background. Many object classes exhibit silhouettes that have distinctive class-specific features."
   ]
  },
  {
   "cell_type": "code",
   "execution_count": 7,
   "metadata": {},
   "outputs": [],
   "source": [
    "import scipy.io\n",
    "import pandas as pd"
   ]
  },
  {
   "cell_type": "code",
   "execution_count": 316,
   "metadata": {},
   "outputs": [],
   "source": [
    "silhouettes = scipy.io.loadmat('data/silhouettes.mat')\n",
    "img_mat = silhouettes.get('X')"
   ]
  },
  {
   "cell_type": "code",
   "execution_count": 355,
   "metadata": {},
   "outputs": [],
   "source": [
    "pixel = 28\n",
    "plane_row = [5,6,10]\n",
    "umbrella_row = [8121,8123,8124]\n",
    "cat_row = [8505,8507,8515]\n",
    "compare_img_mat = [img_mat[i,].reshape(pixel,pixel).T for i in plane_row+umbrella_row+cat_row]\n",
    "\n",
    "plane_idx = ['plane' + str(i) for i in range(1,4)]\n",
    "umbrella_idx = ['umbrella' + str(i) for i in range(1,4)]\n",
    "cat_idx = ['cat' + str(i) for i in range(1,4)]\n",
    "all_idx = plane_idx + umbrella_idx + cat_idx"
   ]
  },
  {
   "cell_type": "code",
   "execution_count": 356,
   "metadata": {},
   "outputs": [
    {
     "data": {
      "image/png": "[encoded data removed]",
      "text/plain": [
       "<Figure size 504x504 with 9 Axes>"
      ]
     },
     "metadata": {
      "needs_background": "light"
     },
     "output_type": "display_data"
    }
   ],
   "source": [
    "fig, axes = plt.subplots(nrows=3,ncols=3, figsize = (7,7))\n",
    "for p in range(9):\n",
    "    i = p//3\n",
    "    j = p%3\n",
    "    axes[i,j].imshow(compare_img_mat[p], cmap='gray')\n",
    "    axes[i,j].axis('off')\n",
    "    axes[i,j].set_title(all_idx[p])\n",
    "pass"
   ]
  },
  {
   "cell_type": "code",
   "execution_count": 359,
   "metadata": {},
   "outputs": [],
   "source": [
    "M_img = sh.image.cost_mat(pixel)\n",
    "compare_img_flat = sh.image.flatten(compare_img_mat)\n",
    "maxiter = 2000\n",
    "tol = 1e-4\n",
    "lamda = 20"
   ]
  },
  {
   "cell_type": "code",
   "execution_count": 361,
   "metadata": {},
   "outputs": [
    {
     "data": {
      "text/html": [
       "<div>\n",
       "<style scoped>\n",
       "    .dataframe tbody tr th:only-of-type {\n",
       "        vertical-align: middle;\n",
       "    }\n",
       "\n",
       "    .dataframe tbody tr th {\n",
       "        vertical-align: top;\n",
       "    }\n",
       "\n",
       "    .dataframe thead th {\n",
       "        text-align: right;\n",
       "    }\n",
       "</style>\n",
       "<table border=\"1\" class=\"dataframe\">\n",
       "  <thead>\n",
       "    <tr style=\"text-align: right;\">\n",
       "      <th></th>\n",
       "      <th>plane1</th>\n",
       "      <th>plane2</th>\n",
       "      <th>plane3</th>\n",
       "      <th>umbrella1</th>\n",
       "      <th>umbrella2</th>\n",
       "      <th>umbrella3</th>\n",
       "      <th>cat1</th>\n",
       "      <th>cat2</th>\n",
       "      <th>cat3</th>\n",
       "    </tr>\n",
       "  </thead>\n",
       "  <tbody>\n",
       "    <tr>\n",
       "      <th>plane1</th>\n",
       "      <td>7.507926e-09</td>\n",
       "      <td>4.523422e-01</td>\n",
       "      <td>1.608117e+00</td>\n",
       "      <td>4.769775e+00</td>\n",
       "      <td>3.268142e+00</td>\n",
       "      <td>1.740223e+00</td>\n",
       "      <td>2.463571e+00</td>\n",
       "      <td>2.088160e+00</td>\n",
       "      <td>2.211377e+00</td>\n",
       "    </tr>\n",
       "    <tr>\n",
       "      <th>plane2</th>\n",
       "      <td>4.546959e-01</td>\n",
       "      <td>7.518364e-09</td>\n",
       "      <td>1.481859e+00</td>\n",
       "      <td>4.563910e+00</td>\n",
       "      <td>3.018078e+00</td>\n",
       "      <td>1.607757e+00</td>\n",
       "      <td>2.266018e+00</td>\n",
       "      <td>2.090295e+00</td>\n",
       "      <td>2.045098e+00</td>\n",
       "    </tr>\n",
       "    <tr>\n",
       "      <th>plane3</th>\n",
       "      <td>1.610802e+00</td>\n",
       "      <td>1.487342e+00</td>\n",
       "      <td>7.336090e-09</td>\n",
       "      <td>3.738838e+00</td>\n",
       "      <td>2.538182e+00</td>\n",
       "      <td>7.683372e-01</td>\n",
       "      <td>1.402282e+00</td>\n",
       "      <td>9.171976e-01</td>\n",
       "      <td>1.160632e+00</td>\n",
       "    </tr>\n",
       "    <tr>\n",
       "      <th>umbrella1</th>\n",
       "      <td>4.770389e+00</td>\n",
       "      <td>4.565164e+00</td>\n",
       "      <td>3.753368e+00</td>\n",
       "      <td>7.387101e-09</td>\n",
       "      <td>1.633380e+00</td>\n",
       "      <td>3.162028e+00</td>\n",
       "      <td>4.015444e+00</td>\n",
       "      <td>3.956618e+00</td>\n",
       "      <td>2.950260e+00</td>\n",
       "    </tr>\n",
       "    <tr>\n",
       "      <th>umbrella2</th>\n",
       "      <td>3.301619e+00</td>\n",
       "      <td>3.055526e+00</td>\n",
       "      <td>2.536706e+00</td>\n",
       "      <td>1.635169e+00</td>\n",
       "      <td>7.381938e-09</td>\n",
       "      <td>1.924763e+00</td>\n",
       "      <td>2.882613e+00</td>\n",
       "      <td>3.005538e+00</td>\n",
       "      <td>2.174834e+00</td>\n",
       "    </tr>\n",
       "    <tr>\n",
       "      <th>umbrella3</th>\n",
       "      <td>1.758107e+00</td>\n",
       "      <td>1.623297e+00</td>\n",
       "      <td>7.626092e-01</td>\n",
       "      <td>3.156808e+00</td>\n",
       "      <td>1.915702e+00</td>\n",
       "      <td>7.464357e-09</td>\n",
       "      <td>1.834865e+00</td>\n",
       "      <td>1.387057e+00</td>\n",
       "      <td>8.668681e-01</td>\n",
       "    </tr>\n",
       "    <tr>\n",
       "      <th>cat1</th>\n",
       "      <td>2.465737e+00</td>\n",
       "      <td>2.267632e+00</td>\n",
       "      <td>1.399046e+00</td>\n",
       "      <td>4.005918e+00</td>\n",
       "      <td>2.877571e+00</td>\n",
       "      <td>1.833016e+00</td>\n",
       "      <td>7.137039e-09</td>\n",
       "      <td>1.580422e+00</td>\n",
       "      <td>1.857818e+00</td>\n",
       "    </tr>\n",
       "    <tr>\n",
       "      <th>cat2</th>\n",
       "      <td>2.087524e+00</td>\n",
       "      <td>2.089375e+00</td>\n",
       "      <td>9.212360e-01</td>\n",
       "      <td>3.931735e+00</td>\n",
       "      <td>3.005854e+00</td>\n",
       "      <td>1.384606e+00</td>\n",
       "      <td>1.573244e+00</td>\n",
       "      <td>7.285377e-09</td>\n",
       "      <td>1.359427e+00</td>\n",
       "    </tr>\n",
       "    <tr>\n",
       "      <th>cat3</th>\n",
       "      <td>2.210328e+00</td>\n",
       "      <td>2.051442e+00</td>\n",
       "      <td>1.168856e+00</td>\n",
       "      <td>2.924648e+00</td>\n",
       "      <td>2.173773e+00</td>\n",
       "      <td>8.672628e-01</td>\n",
       "      <td>1.853890e+00</td>\n",
       "      <td>1.358097e+00</td>\n",
       "      <td>7.228885e-09</td>\n",
       "    </tr>\n",
       "  </tbody>\n",
       "</table>\n",
       "</div>"
      ],
      "text/plain": [
       "                 plane1        plane2        plane3     umbrella1  \\\n",
       "plane1     7.507926e-09  4.523422e-01  1.608117e+00  4.769775e+00   \n",
       "plane2     4.546959e-01  7.518364e-09  1.481859e+00  4.563910e+00   \n",
       "plane3     1.610802e+00  1.487342e+00  7.336090e-09  3.738838e+00   \n",
       "umbrella1  4.770389e+00  4.565164e+00  3.753368e+00  7.387101e-09   \n",
       "umbrella2  3.301619e+00  3.055526e+00  2.536706e+00  1.635169e+00   \n",
       "umbrella3  1.758107e+00  1.623297e+00  7.626092e-01  3.156808e+00   \n",
       "cat1       2.465737e+00  2.267632e+00  1.399046e+00  4.005918e+00   \n",
       "cat2       2.087524e+00  2.089375e+00  9.212360e-01  3.931735e+00   \n",
       "cat3       2.210328e+00  2.051442e+00  1.168856e+00  2.924648e+00   \n",
       "\n",
       "              umbrella2     umbrella3          cat1          cat2  \\\n",
       "plane1     3.268142e+00  1.740223e+00  2.463571e+00  2.088160e+00   \n",
       "plane2     3.018078e+00  1.607757e+00  2.266018e+00  2.090295e+00   \n",
       "plane3     2.538182e+00  7.683372e-01  1.402282e+00  9.171976e-01   \n",
       "umbrella1  1.633380e+00  3.162028e+00  4.015444e+00  3.956618e+00   \n",
       "umbrella2  7.381938e-09  1.924763e+00  2.882613e+00  3.005538e+00   \n",
       "umbrella3  1.915702e+00  7.464357e-09  1.834865e+00  1.387057e+00   \n",
       "cat1       2.877571e+00  1.833016e+00  7.137039e-09  1.580422e+00   \n",
       "cat2       3.005854e+00  1.384606e+00  1.573244e+00  7.285377e-09   \n",
       "cat3       2.173773e+00  8.672628e-01  1.853890e+00  1.358097e+00   \n",
       "\n",
       "                   cat3  \n",
       "plane1     2.211377e+00  \n",
       "plane2     2.045098e+00  \n",
       "plane3     1.160632e+00  \n",
       "umbrella1  2.950260e+00  \n",
       "umbrella2  2.174834e+00  \n",
       "umbrella3  8.668681e-01  \n",
       "cat1       1.857818e+00  \n",
       "cat2       1.359427e+00  \n",
       "cat3       7.228885e-09  "
      ]
     },
     "execution_count": 361,
     "metadata": {},
     "output_type": "execute_result"
    }
   ],
   "source": [
    "compare_result = np.zeros([9,9])\n",
    "for i in range(9):\n",
    "    for j in range(9):\n",
    "        compare_result[i,j] = Sinkhorn(compare_img_flat[i], compare_img_flat[j], M_img, lamda, tol, maxiter)[0]\n",
    "compare_result\n",
    "pd.DataFrame(compare_result, index=all_idx, columns=all_idx)"
   ]
  },
  {
   "cell_type": "code",
   "execution_count": null,
   "metadata": {},
   "outputs": [],
   "source": []
  }
 ],
 "metadata": {
  "kernelspec": {
   "display_name": "Python 3",
   "language": "python",
   "name": "python3"
  },
  "language_info": {
   "codemirror_mode": {
    "name": "ipython",
    "version": 3
   },
   "file_extension": ".py",
   "mimetype": "text/x-python",
   "name": "python",
   "nbconvert_exporter": "python",
   "pygments_lexer": "ipython3",
   "version": "3.8.5"
  }
 },
 "nbformat": 4,
 "nbformat_minor": 4
}
