{
 "cells": [
  {
   "cell_type": "code",
   "execution_count": 1,
   "metadata": {},
   "outputs": [
    {
     "name": "stdout",
     "output_type": "stream",
     "text": [
      "Processing /Users/aidensmac/Documents/STA663/663-Final-Project\n",
      "Building wheels for collected packages: Sinkhorn-663\n",
      "  Building wheel for Sinkhorn-663 (setup.py) ... \u001b[?25ldone\n",
      "\u001b[?25h  Created wheel for Sinkhorn-663: filename=Sinkhorn_663-0.1-cp37-cp37m-macosx_10_9_x86_64.whl size=72987 sha256=1f5a9d74510248b6f7bc80ac52ddfe1aac745d9a4dae4cc6cd20d943148080a9\n",
      "  Stored in directory: /Users/aidensmac/Library/Caches/pip/wheels/15/7b/42/02fb0596137c6b0d9d9d339e39864bb8e0e21c04ccefcf74f6\n",
      "Successfully built Sinkhorn-663\n",
      "Installing collected packages: Sinkhorn-663\n",
      "  Attempting uninstall: Sinkhorn-663\n",
      "    Found existing installation: Sinkhorn-663 0.1\n",
      "    Uninstalling Sinkhorn-663-0.1:\n",
      "      Successfully uninstalled Sinkhorn-663-0.1\n",
      "Successfully installed Sinkhorn-663-0.1\n"
     ]
    }
   ],
   "source": [
    "# install our package\n",
    "! pip install ."
   ]
  },
  {
   "cell_type": "code",
   "execution_count": 2,
   "metadata": {},
   "outputs": [],
   "source": [
    "import Sinkhorn_663 as sh"
   ]
  },
  {
   "cell_type": "code",
   "execution_count": 3,
   "metadata": {},
   "outputs": [],
   "source": [
    "from Sinkhorn_663 import Sinkhorn, log_domain_sinkhorn_2, Sinkhorn_numba, Sinkhorn_numba_parallel\n",
    "from Sinkhorn_663 import sample_to_prob_vec, sample_to_prob_vec_nD\n",
    "from Sinkhorn_663.image import cost_mat, flatten\n",
    "from Skh_cpp import Sinkhorn_cpp\n",
    "import numpy as np\n",
    "import matplotlib.pyplot as plt"
   ]
  },
  {
   "cell_type": "markdown",
   "metadata": {},
   "source": [
    "# Applications to real data sets"
   ]
  },
  {
   "cell_type": "markdown",
   "metadata": {},
   "source": [
    "According to the requirement, we also find one other real-world data set not in the original paper and test it. Because optimal transport distances are computed for theoretical probability measures, it's hard to find real data sets which can directly use this method and describe the result. Therefore, we decide to use image data, distances between image matrix can be interpreted as the difference between images. The image data we choose is [CalTech 101 Silhouettes Data Set](https://people.cs.umass.edu/~marlin/data.shtml). According to the description of this data, each image in the CalTech 101 data set includes a high-quality polygon outline of the primary object in the scene. The outline is rendered as a filled, black polygon on a white background. Many object classes exhibit silhouettes that have distinctive class-specific features."
   ]
  },
  {
   "cell_type": "code",
   "execution_count": 4,
   "metadata": {},
   "outputs": [],
   "source": [
    "import scipy.io\n",
    "import pandas as pd"
   ]
  },
  {
   "cell_type": "code",
   "execution_count": 5,
   "metadata": {},
   "outputs": [],
   "source": [
    "silhouettes = scipy.io.loadmat('data/silhouettes.mat')\n",
    "img_mat = silhouettes.get('X')"
   ]
  },
  {
   "cell_type": "code",
   "execution_count": 6,
   "metadata": {},
   "outputs": [],
   "source": [
    "pixel = 28\n",
    "plane_row = [5,6,10]\n",
    "umbrella_row = [8121,8123,8124]\n",
    "cat_row = [8505,8507,8515]\n",
    "compare_img_mat = [img_mat[i,].reshape(pixel,pixel).T for i in plane_row+umbrella_row+cat_row]\n",
    "\n",
    "plane_idx = ['plane' + str(i) for i in range(1,4)]\n",
    "umbrella_idx = ['umbrella' + str(i) for i in range(1,4)]\n",
    "cat_idx = ['cat' + str(i) for i in range(1,4)]\n",
    "all_idx = plane_idx + umbrella_idx + cat_idx"
   ]
  },
  {
   "cell_type": "code",
   "execution_count": 7,
   "metadata": {},
   "outputs": [
    {
     "data": {
      "image/png": "[encoded data removed]",
      "text/plain": [
       "<Figure size 504x504 with 9 Axes>"
      ]
     },
     "metadata": {
      "needs_background": "light"
     },
     "output_type": "display_data"
    }
   ],
   "source": [
    "fig, axes = plt.subplots(nrows=3,ncols=3, figsize = (7,7))\n",
    "for p in range(9):\n",
    "    i = p//3\n",
    "    j = p%3\n",
    "    axes[i,j].imshow(compare_img_mat[p], cmap='gray')\n",
    "    axes[i,j].axis('off')\n",
    "    axes[i,j].set_title(all_idx[p])\n",
    "pass"
   ]
  },
  {
   "cell_type": "code",
   "execution_count": 16,
   "metadata": {},
   "outputs": [],
   "source": [
    "M_img = sh.image.cost_mat(pixel)\n",
    "compare_img_flat = sh.image.flatten(compare_img_mat)\n",
    "maxiter = 100000\n",
    "tol = 1e-4\n",
    "lamda = 20"
   ]
  },
  {
   "cell_type": "code",
   "execution_count": 17,
   "metadata": {},
   "outputs": [
    {
     "data": {
      "text/html": [
       "<div>\n",
       "<style scoped>\n",
       "    .dataframe tbody tr th:only-of-type {\n",
       "        vertical-align: middle;\n",
       "    }\n",
       "\n",
       "    .dataframe tbody tr th {\n",
       "        vertical-align: top;\n",
       "    }\n",
       "\n",
       "    .dataframe thead th {\n",
       "        text-align: right;\n",
       "    }\n",
       "</style>\n",
       "<table border=\"1\" class=\"dataframe\">\n",
       "  <thead>\n",
       "    <tr style=\"text-align: right;\">\n",
       "      <th></th>\n",
       "      <th>plane1</th>\n",
       "      <th>plane2</th>\n",
       "      <th>plane3</th>\n",
       "      <th>umbrella1</th>\n",
       "      <th>umbrella2</th>\n",
       "      <th>umbrella3</th>\n",
       "      <th>cat1</th>\n",
       "      <th>cat2</th>\n",
       "      <th>cat3</th>\n",
       "    </tr>\n",
       "  </thead>\n",
       "  <tbody>\n",
       "    <tr>\n",
       "      <td>plane1</td>\n",
       "      <td>7.507926e-09</td>\n",
       "      <td>4.835205e-01</td>\n",
       "      <td>1.648771e+00</td>\n",
       "      <td>4.771144e+00</td>\n",
       "      <td>3.391057e+00</td>\n",
       "      <td>1.840430e+00</td>\n",
       "      <td>2.481012e+00</td>\n",
       "      <td>2.089204e+00</td>\n",
       "      <td>2.230483e+00</td>\n",
       "    </tr>\n",
       "    <tr>\n",
       "      <td>plane2</td>\n",
       "      <td>4.835205e-01</td>\n",
       "      <td>7.518364e-09</td>\n",
       "      <td>1.537295e+00</td>\n",
       "      <td>4.566856e+00</td>\n",
       "      <td>3.148064e+00</td>\n",
       "      <td>1.685315e+00</td>\n",
       "      <td>2.273739e+00</td>\n",
       "      <td>2.092413e+00</td>\n",
       "      <td>2.087883e+00</td>\n",
       "    </tr>\n",
       "    <tr>\n",
       "      <td>plane3</td>\n",
       "      <td>1.648771e+00</td>\n",
       "      <td>1.537295e+00</td>\n",
       "      <td>7.336090e-09</td>\n",
       "      <td>3.774516e+00</td>\n",
       "      <td>2.575152e+00</td>\n",
       "      <td>8.243969e-01</td>\n",
       "      <td>1.429690e+00</td>\n",
       "      <td>1.003658e+00</td>\n",
       "      <td>1.219834e+00</td>\n",
       "    </tr>\n",
       "    <tr>\n",
       "      <td>umbrella1</td>\n",
       "      <td>4.771144e+00</td>\n",
       "      <td>4.566856e+00</td>\n",
       "      <td>3.774516e+00</td>\n",
       "      <td>7.387101e-09</td>\n",
       "      <td>1.654135e+00</td>\n",
       "      <td>3.175768e+00</td>\n",
       "      <td>4.032459e+00</td>\n",
       "      <td>4.003444e+00</td>\n",
       "      <td>3.019668e+00</td>\n",
       "    </tr>\n",
       "    <tr>\n",
       "      <td>umbrella2</td>\n",
       "      <td>3.391057e+00</td>\n",
       "      <td>3.148064e+00</td>\n",
       "      <td>2.575152e+00</td>\n",
       "      <td>1.654135e+00</td>\n",
       "      <td>7.381938e-09</td>\n",
       "      <td>1.940686e+00</td>\n",
       "      <td>2.894870e+00</td>\n",
       "      <td>3.016602e+00</td>\n",
       "      <td>2.183353e+00</td>\n",
       "    </tr>\n",
       "    <tr>\n",
       "      <td>umbrella3</td>\n",
       "      <td>1.840430e+00</td>\n",
       "      <td>1.685315e+00</td>\n",
       "      <td>8.243969e-01</td>\n",
       "      <td>3.175768e+00</td>\n",
       "      <td>1.940686e+00</td>\n",
       "      <td>7.464357e-09</td>\n",
       "      <td>1.848246e+00</td>\n",
       "      <td>1.400789e+00</td>\n",
       "      <td>8.861091e-01</td>\n",
       "    </tr>\n",
       "    <tr>\n",
       "      <td>cat1</td>\n",
       "      <td>2.481012e+00</td>\n",
       "      <td>2.273739e+00</td>\n",
       "      <td>1.429690e+00</td>\n",
       "      <td>4.032459e+00</td>\n",
       "      <td>2.894870e+00</td>\n",
       "      <td>1.848246e+00</td>\n",
       "      <td>7.137039e-09</td>\n",
       "      <td>1.637536e+00</td>\n",
       "      <td>1.917007e+00</td>\n",
       "    </tr>\n",
       "    <tr>\n",
       "      <td>cat2</td>\n",
       "      <td>2.089204e+00</td>\n",
       "      <td>2.092413e+00</td>\n",
       "      <td>1.003658e+00</td>\n",
       "      <td>4.003444e+00</td>\n",
       "      <td>3.016602e+00</td>\n",
       "      <td>1.400789e+00</td>\n",
       "      <td>1.637536e+00</td>\n",
       "      <td>7.285377e-09</td>\n",
       "      <td>1.368486e+00</td>\n",
       "    </tr>\n",
       "    <tr>\n",
       "      <td>cat3</td>\n",
       "      <td>2.230483e+00</td>\n",
       "      <td>2.087883e+00</td>\n",
       "      <td>1.219834e+00</td>\n",
       "      <td>3.019668e+00</td>\n",
       "      <td>2.183353e+00</td>\n",
       "      <td>8.861091e-01</td>\n",
       "      <td>1.917007e+00</td>\n",
       "      <td>1.368486e+00</td>\n",
       "      <td>7.228885e-09</td>\n",
       "    </tr>\n",
       "  </tbody>\n",
       "</table>\n",
       "</div>"
      ],
      "text/plain": [
       "                 plane1        plane2        plane3     umbrella1  \\\n",
       "plane1     7.507926e-09  4.835205e-01  1.648771e+00  4.771144e+00   \n",
       "plane2     4.835205e-01  7.518364e-09  1.537295e+00  4.566856e+00   \n",
       "plane3     1.648771e+00  1.537295e+00  7.336090e-09  3.774516e+00   \n",
       "umbrella1  4.771144e+00  4.566856e+00  3.774516e+00  7.387101e-09   \n",
       "umbrella2  3.391057e+00  3.148064e+00  2.575152e+00  1.654135e+00   \n",
       "umbrella3  1.840430e+00  1.685315e+00  8.243969e-01  3.175768e+00   \n",
       "cat1       2.481012e+00  2.273739e+00  1.429690e+00  4.032459e+00   \n",
       "cat2       2.089204e+00  2.092413e+00  1.003658e+00  4.003444e+00   \n",
       "cat3       2.230483e+00  2.087883e+00  1.219834e+00  3.019668e+00   \n",
       "\n",
       "              umbrella2     umbrella3          cat1          cat2  \\\n",
       "plane1     3.391057e+00  1.840430e+00  2.481012e+00  2.089204e+00   \n",
       "plane2     3.148064e+00  1.685315e+00  2.273739e+00  2.092413e+00   \n",
       "plane3     2.575152e+00  8.243969e-01  1.429690e+00  1.003658e+00   \n",
       "umbrella1  1.654135e+00  3.175768e+00  4.032459e+00  4.003444e+00   \n",
       "umbrella2  7.381938e-09  1.940686e+00  2.894870e+00  3.016602e+00   \n",
       "umbrella3  1.940686e+00  7.464357e-09  1.848246e+00  1.400789e+00   \n",
       "cat1       2.894870e+00  1.848246e+00  7.137039e-09  1.637536e+00   \n",
       "cat2       3.016602e+00  1.400789e+00  1.637536e+00  7.285377e-09   \n",
       "cat3       2.183353e+00  8.861091e-01  1.917007e+00  1.368486e+00   \n",
       "\n",
       "                   cat3  \n",
       "plane1     2.230483e+00  \n",
       "plane2     2.087883e+00  \n",
       "plane3     1.219834e+00  \n",
       "umbrella1  3.019668e+00  \n",
       "umbrella2  2.183353e+00  \n",
       "umbrella3  8.861091e-01  \n",
       "cat1       1.917007e+00  \n",
       "cat2       1.368486e+00  \n",
       "cat3       7.228885e-09  "
      ]
     },
     "execution_count": 17,
     "metadata": {},
     "output_type": "execute_result"
    }
   ],
   "source": [
    "compare_result = np.zeros([9,9])\n",
    "for i in range(9):\n",
    "    for j in range(9):\n",
    "        compare_result[i,j] = Sinkhorn(compare_img_flat[i], compare_img_flat[j], M_img, lamda, tol, maxiter)[0]\n",
    "compare_result\n",
    "pd.DataFrame(compare_result, index=all_idx, columns=all_idx)"
   ]
  },
  {
   "cell_type": "code",
   "execution_count": 13,
   "metadata": {},
   "outputs": [
    {
     "data": {
      "text/plain": [
       "(1.8506814225098631, 26472)"
      ]
     },
     "execution_count": 13,
     "metadata": {},
     "output_type": "execute_result"
    }
   ],
   "source": [
    "Sinkhorn(compare_img_flat[0], compare_img_flat[5], M_img, 10, tol, 100000)"
   ]
  },
  {
   "cell_type": "code",
   "execution_count": 14,
   "metadata": {},
   "outputs": [
    {
     "data": {
      "text/plain": [
       "(1.8404295937859017, 47561)"
      ]
     },
     "execution_count": 14,
     "metadata": {},
     "output_type": "execute_result"
    }
   ],
   "source": [
    "Sinkhorn(compare_img_flat[0], compare_img_flat[5], M_img, 20, tol, 100000)"
   ]
  },
  {
   "cell_type": "code",
   "execution_count": 15,
   "metadata": {},
   "outputs": [
    {
     "data": {
      "text/plain": [
       "(1.8355887761851362, 99999)"
      ]
     },
     "execution_count": 15,
     "metadata": {},
     "output_type": "execute_result"
    }
   ],
   "source": [
    "Sinkhorn(compare_img_flat[0], compare_img_flat[5], M_img, 50, tol, 100000)"
   ]
  },
  {
   "cell_type": "code",
   "execution_count": null,
   "metadata": {},
   "outputs": [],
   "source": []
  }
 ],
 "metadata": {
  "kernelspec": {
   "display_name": "Python 3",
   "language": "python",
   "name": "python3"
  },
  "language_info": {
   "codemirror_mode": {
    "name": "ipython",
    "version": 3
   },
   "file_extension": ".py",
   "mimetype": "text/x-python",
   "name": "python",
   "nbconvert_exporter": "python",
   "pygments_lexer": "ipython3",
   "version": "3.8.5"
  }
 },
 "nbformat": 4,
 "nbformat_minor": 4
}
