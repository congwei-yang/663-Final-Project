{
 "cells": [
  {
   "cell_type": "code",
   "execution_count": 1,
   "metadata": {
    "pycharm": {
     "name": "#%%\n"
    }
   },
   "outputs": [
    {
     "name": "stdout",
     "output_type": "stream",
     "text": [
      "Processing /Users/aidensmac/Documents/STA663/663-Final-Project\n",
      "Building wheels for collected packages: Sinkhorn-663\n",
      "  Building wheel for Sinkhorn-663 (setup.py) ... \u001b[?25ldone\n",
      "\u001b[?25h  Created wheel for Sinkhorn-663: filename=Sinkhorn_663-0.1-cp37-cp37m-macosx_10_9_x86_64.whl size=71857 sha256=c427d932d08c238459c064ef6e5473db714a1d64ec40ceb360524d2b299642a9\n",
      "  Stored in directory: /Users/aidensmac/Library/Caches/pip/wheels/15/7b/42/02fb0596137c6b0d9d9d339e39864bb8e0e21c04ccefcf74f6\n",
      "Successfully built Sinkhorn-663\n",
      "Installing collected packages: Sinkhorn-663\n",
      "  Attempting uninstall: Sinkhorn-663\n",
      "    Found existing installation: Sinkhorn-663 0.1\n",
      "    Uninstalling Sinkhorn-663-0.1:\n",
      "      Successfully uninstalled Sinkhorn-663-0.1\n",
      "Successfully installed Sinkhorn-663-0.1\n"
     ]
    }
   ],
   "source": [
    "# install our package\n",
    "! pip install ."
   ]
  },
  {
   "cell_type": "code",
   "execution_count": 15,
   "metadata": {},
   "outputs": [],
   "source": [
    "from Sinkhorn_663 import Sinkhorn, log_domain_sinkhorn_2, Sinkhorn_numba, Sinkhorn_numba_parallel\n",
    "from Sinkhorn_663 import sample_to_prob_vec, sample_to_prob_vec_nD\n",
    "from Skh_cpp import Sinkhorn_cpp\n",
    "import numpy as np\n",
    "import matplotlib.pyplot as plt"
   ]
  },
  {
   "cell_type": "markdown",
   "metadata": {},
   "source": [
    "## 2.1 Basic implementation"
   ]
  },
  {
   "cell_type": "markdown",
   "metadata": {},
   "source": [
    "First, we follow the above description of algorithm to implement it in plain Python as a baseline. We use the functions in package *numpy* to do matrix operations. The Sinkhorn distance and iteration times would be returned. As in the above description, the algorithm could calculate the matrix $P^{\\lambda}$ by Sinkhorn's fixed point iteration $(u, v) \\leftarrow (r./Kv, c./K'u)$. Furthermore, the iteration could been simplified to one single iteration $u\\leftarrow 1./(\\tilde K(c./K'u))$. We use $|u_{new} - u|<tol$ as the stopping criterion."
   ]
  },
  {
   "cell_type": "code",
   "execution_count": 3,
   "metadata": {},
   "outputs": [],
   "source": [
    "def Sinkhorn_plain(r, C, M, lamda, tol = 1e-6, maxiter = 10000):\n",
    "    M = M[r > 0]\n",
    "    r = r[r > 0]\n",
    "    K = np.exp(-lamda * M)\n",
    "    N = np.shape(C)[1]\n",
    "    u = np.ones((len(r), N)) / len(r)\n",
    "    K_tilde = np.diag(1/r) @ K\n",
    "    d_prev = np.repeat(2., N)\n",
    "    d = np.ones(N) + 0.5\n",
    "    for i in range(maxiter):\n",
    "        u_new = 1/(K_tilde @ (C / (K.T @ u)))\n",
    "        if np.max(np.abs(u_new - u)) <= tol:\n",
    "            break\n",
    "        u = u_new\n",
    "    v = C/(K.T @ u)\n",
    "    d = np.sum(u * ((K * M) @ v), axis = 0)\n",
    "    return d[0], i"
   ]
  },
  {
   "cell_type": "markdown",
   "metadata": {},
   "source": [
    "### 2.1.1 Test and Check results"
   ]
  },
  {
   "cell_type": "markdown",
   "metadata": {},
   "source": [
    "To verify the correctness of our implementation, we generate some simulation data and test the algorithm on it. Further optimized algorithms would also be tested on them to check results and compare performance. \n",
    "\n",
    "As a start, we consider the situation where the empirical measures $r$ and $c$ come from a same distribution. We generate two groups of samples from a same distribution $\\text{Beta}(1, 2)$, use the function *sample_to_prob_vec* to convert samples to vectors and cost matrix as inputs, and calculate the distance by our function. Here we choose sample size $N = 3000$, $\\text{maxiter} = 10000$, $\\text{tol} = 1e-6$, $\\lambda = 20$. The result is close to $0$ es expected. It is a little larger than $0$ because of the entropy regularization."
   ]
  },
  {
   "cell_type": "code",
   "execution_count": 4,
   "metadata": {},
   "outputs": [],
   "source": [
    "# create simulation data\n",
    "N = 3000\n",
    "np.random.seed(1)\n",
    "u1 = np.random.beta(a = 1, b = 2, size = N)\n",
    "v1 = np.random.beta(a = 1, b = 2, size = N)\n",
    "M1, r1, c1 = sample_to_prob_vec(u1, v1)\n",
    "c1 = c1.reshape(-1, 1)\n",
    "# set parameters\n",
    "maxiter = 10000\n",
    "tol = 1e-6\n",
    "lamda = 20"
   ]
  },
  {
   "cell_type": "code",
   "execution_count": 5,
   "metadata": {},
   "outputs": [
    {
     "data": {
      "text/plain": [
       "(0.047851415045381665, 36)"
      ]
     },
     "execution_count": 5,
     "metadata": {},
     "output_type": "execute_result"
    }
   ],
   "source": [
    "Sinkhorn_plain(r1, c1, M1, lamda, tol, maxiter)"
   ]
  },
  {
   "cell_type": "markdown",
   "metadata": {},
   "source": [
    "Then we test on another simulation data from distributions with a setted known OT distance. Distributions $\\text{Uniform}(0, 1)$ and $\\text{Uniform}(10, 11)$ are used, which have a known OT distance $= 10$. The output of *Sinkhorn_plain* is close to 10 and a little larger than $10$ as expected."
   ]
  },
  {
   "cell_type": "code",
   "execution_count": 6,
   "metadata": {},
   "outputs": [],
   "source": [
    "np.random.seed(1)\n",
    "u2 = np.random.uniform(0, 1, size = N)\n",
    "v2 = np.random.uniform(10, 11, size = N)\n",
    "M2, r2, c2 = sample_to_prob_vec(u2, v2, 1)\n",
    "c2 = c2.reshape(-1, 1)"
   ]
  },
  {
   "cell_type": "code",
   "execution_count": 7,
   "metadata": {},
   "outputs": [
    {
     "data": {
      "text/plain": [
       "(10.061646663537982, 241)"
      ]
     },
     "execution_count": 7,
     "metadata": {},
     "output_type": "execute_result"
    }
   ],
   "source": [
    "Sinkhorn_plain(r2, c2, M2, lamda, tol, maxiter)"
   ]
  },
  {
   "cell_type": "markdown",
   "metadata": {},
   "source": [
    "### 2.1.2 Profiling"
   ]
  },
  {
   "cell_type": "markdown",
   "metadata": {},
   "source": [
    "Before diving deeper to optimization, we first use *profile* to profile the plain version of implementation."
   ]
  },
  {
   "cell_type": "code",
   "execution_count": 8,
   "metadata": {},
   "outputs": [],
   "source": [
    "import profile"
   ]
  },
  {
   "cell_type": "code",
   "execution_count": 9,
   "metadata": {},
   "outputs": [
    {
     "name": "stdout",
     "output_type": "stream",
     "text": [
      "         346 function calls in 4.422 seconds\n",
      "\n",
      "   Ordered by: standard name\n",
      "\n",
      "   ncalls  tottime  percall  cumtime  percall filename:lineno(function)\n",
      "        1    0.000    0.000    0.000    0.000 :0(abs)\n",
      "        2    0.000    0.000    0.000    0.000 :0(array)\n",
      "        2    0.000    0.000    0.000    0.000 :0(empty)\n",
      "        1    0.000    0.000    4.422    4.422 :0(exec)\n",
      "        2    0.000    0.000    0.000    0.000 :0(getattr)\n",
      "       43    0.002    0.000    0.077    0.002 :0(implement_array_function)\n",
      "        1    0.000    0.000    0.000    0.000 :0(isinstance)\n",
      "       38    0.001    0.000    0.001    0.000 :0(items)\n",
      "        3    0.000    0.000    0.000    0.000 :0(len)\n",
      "       38    0.006    0.000    0.006    0.000 :0(reduce)\n",
      "        1    0.000    0.000    0.000    0.000 :0(repeat)\n",
      "        1    0.000    0.000    0.000    0.000 :0(setprofile)\n",
      "        1    0.060    0.060    0.060    0.060 :0(zeros)\n",
      "       37    0.003    0.000    0.018    0.000 <__array_function__ internals>:2(amax)\n",
      "        2    0.000    0.000    0.000    0.000 <__array_function__ internals>:2(copyto)\n",
      "        1    0.000    0.000    0.061    0.061 <__array_function__ internals>:2(diag)\n",
      "        1    0.000    0.000    0.001    0.001 <__array_function__ internals>:2(repeat)\n",
      "        1    0.000    0.000    0.000    0.000 <__array_function__ internals>:2(shape)\n",
      "        1    0.000    0.000    0.001    0.001 <__array_function__ internals>:2(sum)\n",
      "        1    4.265    4.265    4.346    4.346 <ipython-input-3-2ad1db9eb688>:1(Sinkhorn_plain)\n",
      "        1    0.076    0.076    4.422    4.422 <string>:1(<module>)\n",
      "        1    0.000    0.000    0.000    0.000 _asarray.py:16(asarray)\n",
      "        1    0.000    0.000    0.000    0.000 _asarray.py:88(asanyarray)\n",
      "        1    0.000    0.000    0.000    0.000 fromnumeric.py:1852(_shape_dispatcher)\n",
      "        1    0.000    0.000    0.000    0.000 fromnumeric.py:1856(shape)\n",
      "        1    0.000    0.000    0.000    0.000 fromnumeric.py:2040(_sum_dispatcher)\n",
      "        1    0.000    0.000    0.000    0.000 fromnumeric.py:2045(sum)\n",
      "       37    0.001    0.000    0.001    0.000 fromnumeric.py:2499(_amax_dispatcher)\n",
      "       37    0.002    0.000    0.013    0.000 fromnumeric.py:2504(amax)\n",
      "        1    0.000    0.000    0.000    0.000 fromnumeric.py:42(_wrapit)\n",
      "        1    0.000    0.000    0.000    0.000 fromnumeric.py:435(_repeat_dispatcher)\n",
      "        1    0.000    0.000    0.001    0.001 fromnumeric.py:439(repeat)\n",
      "        1    0.000    0.000    0.000    0.000 fromnumeric.py:55(_wrapfunc)\n",
      "       38    0.004    0.000    0.012    0.000 fromnumeric.py:73(_wrapreduction)\n",
      "       38    0.001    0.000    0.001    0.000 fromnumeric.py:74(<dictcomp>)\n",
      "        2    0.000    0.000    0.000    0.000 multiarray.py:1043(copyto)\n",
      "        2    0.000    0.000    0.001    0.000 numeric.py:166(ones)\n",
      "        1    0.000    0.000    4.422    4.422 profile:0(Sinkhorn_plain(r1, c1, M1, lamda, tol, maxiter))\n",
      "        0    0.000             0.000          profile:0(profiler)\n",
      "        1    0.000    0.000    0.000    0.000 twodim_base.py:212(_diag_dispatcher)\n",
      "        1    0.001    0.001    0.061    0.061 twodim_base.py:216(diag)\n",
      "\n",
      "\n"
     ]
    }
   ],
   "source": [
    "profile.run(\"Sinkhorn_plain(r1, c1, M1, lamda, tol, maxiter)\")"
   ]
  },
  {
   "cell_type": "markdown",
   "metadata": {},
   "source": [
    "## 2.2 Optimization"
   ]
  },
  {
   "cell_type": "markdown",
   "metadata": {},
   "source": [
    "(Descirbe numba, cpp, log_domain versions)"
   ]
  },
  {
   "cell_type": "markdown",
   "metadata": {},
   "source": [
    "### Time"
   ]
  },
  {
   "cell_type": "code",
   "execution_count": 10,
   "metadata": {
    "scrolled": true
   },
   "outputs": [
    {
     "name": "stdout",
     "output_type": "stream",
     "text": [
      "1.4 s ± 59.2 ms per loop (mean ± std. dev. of 7 runs, 1 loop each)\n",
      "2.83 s ± 292 ms per loop (mean ± std. dev. of 7 runs, 1 loop each)\n",
      "459 ms ± 11.4 ms per loop (mean ± std. dev. of 7 runs, 1 loop each)\n"
     ]
    }
   ],
   "source": [
    "%timeit Sinkhorn_plain(r2, c2, M2, lamda, tol, maxiter)\n",
    "%timeit Sinkhorn(r2, c2, M2, lamda, tol, maxiter)\n",
    "%timeit Sinkhorn_cpp(r2, c2, M2, lamda, tol, maxiter)"
   ]
  },
  {
   "cell_type": "markdown",
   "metadata": {},
   "source": [
    "### Overflow"
   ]
  },
  {
   "cell_type": "markdown",
   "metadata": {},
   "source": [
    "Another issue is that we need to calculate $K = e^{-\\lambda M}$ in our algorithm. When $\\lambda$ becomes large, it may overflow and become unable to calculate the distance. To address this problem, we implement the algorithm in log domain and compile it with numba. \n"
   ]
  },
  {
   "cell_type": "code",
   "execution_count": 11,
   "metadata": {},
   "outputs": [
    {
     "name": "stdout",
     "output_type": "stream",
     "text": [
      "lambda =  0 (10.06164666353809, 0)\n",
      "lambda =  20 (10.061646663537989, 490)\n",
      "lambda =  40 (10.061646663537987, 176)\n",
      "lambda =  60 (10.060680452304231, 576)\n",
      "lambda =  80 (nan, 9999)\n",
      "lambda =  100 (nan, 9999)\n"
     ]
    }
   ],
   "source": [
    "lamdas = list(np.arange(0, 120, 20))\n",
    "for lam in lamdas:\n",
    "    print(\"lambda = \", lam, Sinkhorn(r2, c2, M2, lam, tol, maxiter))"
   ]
  },
  {
   "cell_type": "code",
   "execution_count": 12,
   "metadata": {},
   "outputs": [
    {
     "name": "stdout",
     "output_type": "stream",
     "text": [
      "lambda =  20 [10.06164666]\n",
      "lambda =  40 [10.06164666]\n",
      "lambda =  60 [10.06164666]\n",
      "lambda =  80 [nan]\n",
      "lambda =  100 [nan]\n"
     ]
    }
   ],
   "source": [
    "for lam in lamdas:\n",
    "    if lam != 0:\n",
    "        print(\"lambda = \", lam, Sinkhorn(r2, c2, M2, lam, tol, maxiter, log_domain = True))"
   ]
  },
  {
   "cell_type": "code",
   "execution_count": 13,
   "metadata": {},
   "outputs": [],
   "source": [
    "lamda = np.linspace(120, 180, 61)\n",
    "skh_res = np.zeros(61)\n",
    "log_skh_res = np.zeros(61)\n",
    "test_samp1 = np.random.beta(a = 2, b = 5, size = 2000)\n",
    "test_samp2 = np.random.uniform(low = 5, high = 6, size = 2000)\n",
    "for i in range(61):\n",
    "    M, r, c = sample_to_prob_vec(test_samp1, test_samp2, sigma = 0)\n",
    "    skh_res[i] = Sinkhorn(r, c, M, lamda[i], tol, maxiter)[0]\n",
    "    log_skh_res[i] = Sinkhorn(r, c, M, lamda[i], tol, maxiter, log_domain = True)[0]"
   ]
  },
  {
   "cell_type": "code",
   "execution_count": 16,
   "metadata": {},
   "outputs": [
    {
     "data": {
      "image/png": "[encoded data removed]",
      "text/plain": [
       "<Figure size 1008x576 with 1 Axes>"
      ]
     },
     "metadata": {
      "needs_background": "light"
     },
     "output_type": "display_data"
    }
   ],
   "source": [
    "plt.figure(figsize = (14, 8))\n",
    "plt.plot(lamda, skh_res, label = \"Sinkhorn\")\n",
    "plt.plot(lamda, log_skh_res, label = \"log-domain Sinkhorn\")\n",
    "plt.xlabel(\"$\\lambda$\", fontsize = 18)\n",
    "plt.ylabel(\"Sinkhorn result\", fontsize = 16)\n",
    "plt.title(\"Sinkhorn and log-domain Sinkhorn results vs $\\lambda$\", fontsize = 16)\n",
    "plt.legend(fontsize = 16)\n",
    "pass"
   ]
  },
  {
   "cell_type": "markdown",
   "metadata": {},
   "source": [
    "We can see that, with $P: Beta(2, 5)$ and $Q: Uniform(5, 6)$, the Sinkhorn algorithm produces inaccurate results with $\\lambda > 125$, and the overflow/underflow occurs at $\\lambda = 136$. On the other hand, the log-domain Sinkhorn continue to produce relatively accurate result up to $\\lambda = 149$. "
   ]
  },
  {
   "cell_type": "code",
   "execution_count": null,
   "metadata": {},
   "outputs": [],
   "source": []
  }
 ],
 "metadata": {
  "kernelspec": {
   "display_name": "Python 3",
   "language": "python",
   "name": "python3"
  },
  "language_info": {
   "codemirror_mode": {
    "name": "ipython",
    "version": 3
   },
   "file_extension": ".py",
   "mimetype": "text/x-python",
   "name": "python",
   "nbconvert_exporter": "python",
   "pygments_lexer": "ipython3",
   "version": "3.7.4"
  }
 },
 "nbformat": 4,
 "nbformat_minor": 1
}
