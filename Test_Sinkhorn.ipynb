{
 "cells": [
  {
   "cell_type": "code",
   "execution_count": 72,
   "metadata": {
    "pycharm": {
     "name": "#%%\n"
    }
   },
   "outputs": [
    {
     "name": "stdout",
     "output_type": "stream",
     "text": [
      "Processing /Users/flora/21Spring/663-Final-Project\n",
      "Building wheels for collected packages: Sinkhorn-663\n",
      "  Building wheel for Sinkhorn-663 (setup.py) ... \u001b[?25ldone\n",
      "\u001b[?25h  Created wheel for Sinkhorn-663: filename=Sinkhorn_663-0.1-cp38-cp38-macosx_10_13_x86_64.whl size=82853 sha256=4cccd447a3d8fb08d04c371bf3ee68ed74fe1646877b170629fc3a8af123282c\n",
      "  Stored in directory: /Users/flora/Library/Caches/pip/wheels/02/4e/3e/69d82bfc22d8b08c274774ab6a96edd186d47484910d84d7ef\n",
      "Successfully built Sinkhorn-663\n",
      "Installing collected packages: Sinkhorn-663\n",
      "  Attempting uninstall: Sinkhorn-663\n",
      "    Found existing installation: Sinkhorn-663 0.1\n",
      "    Uninstalling Sinkhorn-663-0.1:\n",
      "      Successfully uninstalled Sinkhorn-663-0.1\n",
      "Successfully installed Sinkhorn-663-0.1\n"
     ]
    }
   ],
   "source": [
    "# install our package\n",
    "! pip install ."
   ]
  },
  {
   "cell_type": "code",
   "execution_count": 74,
   "metadata": {},
   "outputs": [],
   "source": [
    "from Sinkhorn_663 import Sinkhorn, log_domain_sinkhorn_2, Sinkhorn_numba, sample_to_prob_vec, sample_to_prob_vec_nD\n",
    "from Skh_cpp import Sinkhorn_cpp"
   ]
  },
  {
   "cell_type": "markdown",
   "metadata": {},
   "source": [
    "## Test"
   ]
  },
  {
   "cell_type": "markdown",
   "metadata": {},
   "source": [
    "### Simulation Data"
   ]
  },
  {
   "cell_type": "code",
   "execution_count": 75,
   "metadata": {},
   "outputs": [],
   "source": [
    "import numpy as np"
   ]
  },
  {
   "cell_type": "code",
   "execution_count": 76,
   "metadata": {},
   "outputs": [],
   "source": [
    "# create simulation data\n",
    "N = 5000\n",
    "np.random.seed(1)\n",
    "u = np.random.normal(loc = 0, size = N)\n",
    "v = np.random.normal(loc = 10, size = N)\n",
    "Cost, p, q = sample_to_prob_vec(u, v, 1)"
   ]
  },
  {
   "cell_type": "markdown",
   "metadata": {},
   "source": [
    "### Check results"
   ]
  },
  {
   "cell_type": "code",
   "execution_count": 77,
   "metadata": {},
   "outputs": [
    {
     "data": {
      "text/plain": [
       "(9.96780555006323, 3)"
      ]
     },
     "execution_count": 77,
     "metadata": {},
     "output_type": "execute_result"
    }
   ],
   "source": [
    "# Serial Numba version\n",
    "Sinkhorn(p, q, Cost)"
   ]
  },
  {
   "cell_type": "code",
   "execution_count": 78,
   "metadata": {},
   "outputs": [
    {
     "data": {
      "text/plain": [
       "array([9.96780555])"
      ]
     },
     "execution_count": 78,
     "metadata": {},
     "output_type": "execute_result"
    }
   ],
   "source": [
    "# Parallel Numba version in log domain\n",
    "Sinkhorn(p, q, Cost, log_domain = True)"
   ]
  },
  {
   "cell_type": "code",
   "execution_count": 73,
   "metadata": {},
   "outputs": [
    {
     "data": {
      "text/plain": [
       "array([9.96780555])"
      ]
     },
     "execution_count": 73,
     "metadata": {},
     "output_type": "execute_result"
    }
   ],
   "source": [
    "# cpp version\n",
    "Sinkhorn_cpp(p, q.reshape(-1, 1), Cost, 20, 1e-6, 50)"
   ]
  },
  {
   "cell_type": "markdown",
   "metadata": {},
   "source": [
    "## Time"
   ]
  },
  {
   "cell_type": "code",
   "execution_count": 79,
   "metadata": {},
   "outputs": [
    {
     "name": "stdout",
     "output_type": "stream",
     "text": [
      "4.52 s ± 140 ms per loop (mean ± std. dev. of 3 runs, 3 loops each)\n"
     ]
    }
   ],
   "source": [
    "%timeit -r3 -n3 Sinkhorn(p, q, Cost)"
   ]
  },
  {
   "cell_type": "code",
   "execution_count": 80,
   "metadata": {},
   "outputs": [
    {
     "name": "stdout",
     "output_type": "stream",
     "text": [
      "2.53 s ± 123 ms per loop (mean ± std. dev. of 3 runs, 3 loops each)\n"
     ]
    }
   ],
   "source": [
    "%timeit -r3 -n3 Sinkhorn(p, q, Cost, log_domain = True)"
   ]
  },
  {
   "cell_type": "code",
   "execution_count": 81,
   "metadata": {},
   "outputs": [
    {
     "name": "stdout",
     "output_type": "stream",
     "text": [
      "4.34 s ± 262 ms per loop (mean ± std. dev. of 3 runs, 3 loops each)\n"
     ]
    }
   ],
   "source": [
    "%timeit -r3 -n3 Sinkhorn_cpp(p, q.reshape(-1, 1), Cost, 20, 1e-6, 50)"
   ]
  }
 ],
 "metadata": {
  "kernelspec": {
   "display_name": "Python 3",
   "language": "python",
   "name": "python3"
  },
  "language_info": {
   "codemirror_mode": {
    "name": "ipython",
    "version": 3
   },
   "file_extension": ".py",
   "mimetype": "text/x-python",
   "name": "python",
   "nbconvert_exporter": "python",
   "pygments_lexer": "ipython3",
   "version": "3.8.5"
  }
 },
 "nbformat": 4,
 "nbformat_minor": 1
}
