{
 "cells": [
  {
   "cell_type": "code",
   "execution_count": 1,
   "metadata": {
    "pycharm": {
     "name": "#%%\n"
    }
   },
   "outputs": [
    {
     "name": "stdout",
     "output_type": "stream",
     "text": [
      "Processing /Users/flora/21Spring/663-Final-Project\n",
      "Building wheels for collected packages: Sinkhorn-663\n",
      "  Building wheel for Sinkhorn-663 (setup.py) ... \u001b[?25ldone\n",
      "\u001b[?25h  Created wheel for Sinkhorn-663: filename=Sinkhorn_663-0.1-cp38-cp38-macosx_10_13_x86_64.whl size=75374 sha256=f24eba0358fa1783f11780fded77681894c4bf5a3feaf3fd77cd2e7b4f5bd8b0\n",
      "  Stored in directory: /Users/flora/Library/Caches/pip/wheels/02/4e/3e/69d82bfc22d8b08c274774ab6a96edd186d47484910d84d7ef\n",
      "Successfully built Sinkhorn-663\n",
      "Installing collected packages: Sinkhorn-663\n",
      "  Attempting uninstall: Sinkhorn-663\n",
      "    Found existing installation: Sinkhorn-663 0.1\n",
      "    Uninstalling Sinkhorn-663-0.1:\n",
      "      Successfully uninstalled Sinkhorn-663-0.1\n",
      "Successfully installed Sinkhorn-663-0.1\n"
     ]
    }
   ],
   "source": [
    "# install our package\n",
    "! pip install ."
   ]
  },
  {
   "cell_type": "code",
   "execution_count": 1,
   "metadata": {},
   "outputs": [],
   "source": [
    "from Sinkhorn_663 import Sinkhorn, log_domain_sinkhorn_2, Sinkhorn_numba, Sinkhorn_numba_parallel\n",
    "from Sinkhorn_663 import sample_to_prob_vec, sample_to_prob_vec_nD\n",
    "from Skh_cpp import Sinkhorn_cpp\n",
    "import numpy as np"
   ]
  },
  {
   "cell_type": "markdown",
   "metadata": {},
   "source": [
    "## 2.1 Basic implementation"
   ]
  },
  {
   "cell_type": "markdown",
   "metadata": {},
   "source": [
    "First, we follow the above description of algorithm to implement it in plain Python as a baseline. We use the functions in package *numpy* to do matrix operations. The Sinkhorn distance and iteration times would be returned. As in the above description, the algorithm could calculate the matrix $P^{\\lambda}$ by Sinkhorn's fixed point iteration $(u, v) \\leftarrow (r./Kv, c./K'u)$. Furthermore, the iteration could been simplified to one single iteration $u\\leftarrow 1./(\\tilde K(c./K'u))$. We use $|u_{new} - u|<tol$ as the stopping criterion."
   ]
  },
  {
   "cell_type": "code",
   "execution_count": 3,
   "metadata": {},
   "outputs": [],
   "source": [
    "def Sinkhorn_plain(r, C, M, lamda, tol = 1e-6, maxiter = 10000):\n",
    "    M = M[r > 0]\n",
    "    r = r[r > 0]\n",
    "    K = np.exp(-lamda * M)\n",
    "    N = np.shape(C)[1]\n",
    "    u = np.ones((len(r), N)) / len(r)\n",
    "    K_tilde = np.diag(1/r) @ K\n",
    "    d_prev = np.repeat(2., N)\n",
    "    d = np.ones(N) + 0.5\n",
    "    for i in range(maxiter):\n",
    "        u_new = 1/(K_tilde @ (C / (K.T @ u)))\n",
    "        if np.max(np.abs(u_new - u)) <= tol:\n",
    "            break\n",
    "        u = u_new\n",
    "    v = C/(K.T @ u)\n",
    "    d = np.sum(u * ((K * M) @ v), axis = 0)\n",
    "    return d[0], i"
   ]
  },
  {
   "cell_type": "markdown",
   "metadata": {},
   "source": [
    "### 2.1.1 Test and Check results"
   ]
  },
  {
   "cell_type": "markdown",
   "metadata": {},
   "source": [
    "To verify the correctness of our implementation, we generate some simulation data and test the algorithm on it. Further optimized algorithms would also be tested on them to check results and compare performance. \n",
    "\n",
    "As a start, we consider the situation where the empirical measures $r$ and $c$ come from a same distribution. We generate two groups of samples from a same distribution $\\text{Beta}(1, 2)$, use the function *sample_to_prob_vec* to convert samples to vectors and cost matrix as inputs, and calculate the distance by our function. Here we choose sample size $N = 3000$, $\\text{maxiter} = 10000$, $\\text{tol} = 1e-6$, $\\lambda = 20$. The result is close to $0$ es expected. It is a little larger than $0$ because of the entropy regularization."
   ]
  },
  {
   "cell_type": "code",
   "execution_count": 3,
   "metadata": {},
   "outputs": [],
   "source": [
    "# create simulation data\n",
    "N = 3000\n",
    "np.random.seed(1)\n",
    "u1 = np.random.beta(a = 1, b = 2, size = N)\n",
    "v1 = np.random.beta(a = 1, b = 2, size = N)\n",
    "M1, r1, c1 = sample_to_prob_vec(u1, v1)\n",
    "c1 = c1.reshape(-1, 1)\n",
    "# set parameters\n",
    "maxiter = 10000\n",
    "tol = 1e-6\n",
    "lamda = 20"
   ]
  },
  {
   "cell_type": "code",
   "execution_count": 5,
   "metadata": {},
   "outputs": [
    {
     "data": {
      "text/plain": [
       "(0.047851415045381665, 36)"
      ]
     },
     "execution_count": 5,
     "metadata": {},
     "output_type": "execute_result"
    }
   ],
   "source": [
    "Sinkhorn_plain(r1, c1, M1, lamda, tol, maxiter)"
   ]
  },
  {
   "cell_type": "markdown",
   "metadata": {},
   "source": [
    "Then we test on another simulation data from distributions with a setted known OT distance. Distributions $\\text{Uniform}(0, 1)$ and $\\text{Uniform}(10, 11)$ are used, which have a known OT distance $= 10$. The output of *Sinkhorn_plain* is close to 10 and a little larger than $10$ as expected."
   ]
  },
  {
   "cell_type": "code",
   "execution_count": 4,
   "metadata": {},
   "outputs": [],
   "source": [
    "np.random.seed(1)\n",
    "u2 = np.random.uniform(0, 1, size = N)\n",
    "v2 = np.random.uniform(10, 11, size = N)\n",
    "M2, r2, c2 = sample_to_prob_vec(u2, v2, 1)\n",
    "c2 = c2.reshape(-1, 1)"
   ]
  },
  {
   "cell_type": "code",
   "execution_count": 7,
   "metadata": {},
   "outputs": [
    {
     "data": {
      "text/plain": [
       "(10.061646663537982, 230)"
      ]
     },
     "execution_count": 7,
     "metadata": {},
     "output_type": "execute_result"
    }
   ],
   "source": [
    "Sinkhorn_plain(r2, c2, M2, lamda, tol, maxiter)"
   ]
  },
  {
   "cell_type": "markdown",
   "metadata": {},
   "source": [
    "### 2.1.2 Profiling"
   ]
  },
  {
   "cell_type": "markdown",
   "metadata": {},
   "source": [
    "Before diving deeper to optimization, we first use *profile* to profile the plain version of implementation."
   ]
  },
  {
   "cell_type": "code",
   "execution_count": 8,
   "metadata": {},
   "outputs": [],
   "source": [
    "import profile"
   ]
  },
  {
   "cell_type": "code",
   "execution_count": 9,
   "metadata": {},
   "outputs": [
    {
     "name": "stdout",
     "output_type": "stream",
     "text": [
      "         346 function calls in 2.250 seconds\n",
      "\n",
      "   Ordered by: standard name\n",
      "\n",
      "   ncalls  tottime  percall  cumtime  percall filename:lineno(function)\n",
      "        1    0.000    0.000    0.000    0.000 :0(abs)\n",
      "        2    0.000    0.000    0.000    0.000 :0(array)\n",
      "        2    0.000    0.000    0.000    0.000 :0(empty)\n",
      "        1    0.000    0.000    2.250    2.250 :0(exec)\n",
      "        2    0.000    0.000    0.000    0.000 :0(getattr)\n",
      "       43    0.001    0.000    0.018    0.000 :0(implement_array_function)\n",
      "        1    0.000    0.000    0.000    0.000 :0(isinstance)\n",
      "       38    0.000    0.000    0.000    0.000 :0(items)\n",
      "        3    0.000    0.000    0.000    0.000 :0(len)\n",
      "       38    0.002    0.000    0.002    0.000 :0(reduce)\n",
      "        1    0.000    0.000    0.000    0.000 :0(repeat)\n",
      "        1    0.000    0.000    0.000    0.000 :0(setprofile)\n",
      "        1    0.013    0.013    0.013    0.013 :0(zeros)\n",
      "       37    0.001    0.000    0.006    0.000 <__array_function__ internals>:2(amax)\n",
      "        2    0.000    0.000    0.000    0.000 <__array_function__ internals>:2(copyto)\n",
      "        1    0.000    0.000    0.013    0.013 <__array_function__ internals>:2(diag)\n",
      "        1    0.000    0.000    0.000    0.000 <__array_function__ internals>:2(repeat)\n",
      "        1    0.000    0.000    0.000    0.000 <__array_function__ internals>:2(shape)\n",
      "        1    0.000    0.000    0.000    0.000 <__array_function__ internals>:2(sum)\n",
      "        1    2.200    2.200    2.219    2.219 <ipython-input-3-2ad1db9eb688>:1(Sinkhorn_plain)\n",
      "        1    0.031    0.031    2.250    2.250 <string>:1(<module>)\n",
      "        1    0.000    0.000    0.000    0.000 _asarray.py:14(asarray)\n",
      "        1    0.000    0.000    0.000    0.000 _asarray.py:86(asanyarray)\n",
      "        1    0.000    0.000    0.000    0.000 fromnumeric.py:1911(_shape_dispatcher)\n",
      "        1    0.000    0.000    0.000    0.000 fromnumeric.py:1915(shape)\n",
      "        1    0.000    0.000    0.000    0.000 fromnumeric.py:2100(_sum_dispatcher)\n",
      "        1    0.000    0.000    0.000    0.000 fromnumeric.py:2105(sum)\n",
      "       37    0.000    0.000    0.000    0.000 fromnumeric.py:2584(_amax_dispatcher)\n",
      "       37    0.001    0.000    0.004    0.000 fromnumeric.py:2589(amax)\n",
      "        1    0.000    0.000    0.000    0.000 fromnumeric.py:39(_wrapit)\n",
      "        1    0.000    0.000    0.000    0.000 fromnumeric.py:433(_repeat_dispatcher)\n",
      "        1    0.000    0.000    0.000    0.000 fromnumeric.py:437(repeat)\n",
      "        1    0.000    0.000    0.000    0.000 fromnumeric.py:52(_wrapfunc)\n",
      "       38    0.001    0.000    0.004    0.000 fromnumeric.py:70(_wrapreduction)\n",
      "       38    0.000    0.000    0.000    0.000 fromnumeric.py:71(<dictcomp>)\n",
      "        2    0.000    0.000    0.000    0.000 multiarray.py:1043(copyto)\n",
      "        2    0.000    0.000    0.000    0.000 numeric.py:144(ones)\n",
      "        1    0.000    0.000    2.250    2.250 profile:0(Sinkhorn_plain(r1, c1, M1, lamda, tol, maxiter))\n",
      "        0    0.000             0.000          profile:0(profiler)\n",
      "        1    0.000    0.000    0.000    0.000 twodim_base.py:210(_diag_dispatcher)\n",
      "        1    0.000    0.000    0.013    0.013 twodim_base.py:214(diag)\n",
      "\n",
      "\n"
     ]
    }
   ],
   "source": [
    "profile.run(\"Sinkhorn_plain(r1, c1, M1, lamda, tol, maxiter)\")"
   ]
  },
  {
   "cell_type": "markdown",
   "metadata": {},
   "source": [
    "## 2.2 Optimization"
   ]
  },
  {
   "cell_type": "markdown",
   "metadata": {},
   "source": [
    "(Descirbe numba, cpp, log_domain versions)"
   ]
  },
  {
   "cell_type": "markdown",
   "metadata": {},
   "source": [
    "### Time"
   ]
  },
  {
   "cell_type": "code",
   "execution_count": 10,
   "metadata": {
    "scrolled": true
   },
   "outputs": [
    {
     "name": "stdout",
     "output_type": "stream",
     "text": [
      "3.07 s ± 436 ms per loop (mean ± std. dev. of 7 runs, 1 loop each)\n",
      "2.79 s ± 45.5 ms per loop (mean ± std. dev. of 7 runs, 1 loop each)\n",
      "604 ms ± 61.1 ms per loop (mean ± std. dev. of 7 runs, 1 loop each)\n"
     ]
    }
   ],
   "source": [
    "%timeit Sinkhorn_plain(r2, c2, M2, lamda, tol, maxiter)\n",
    "%timeit Sinkhorn(r2, c2, M2, lamda, tol, maxiter)\n",
    "%timeit Sinkhorn_cpp(r2, c2, M2, lamda, tol, maxiter)"
   ]
  },
  {
   "cell_type": "markdown",
   "metadata": {},
   "source": [
    "### Overflow"
   ]
  },
  {
   "cell_type": "markdown",
   "metadata": {},
   "source": [
    "Another issue is that we need to calculate $K = e^{-\\lambda M}$ in our algorithm. When $\\lambda$ becomes large, it may overflow and become unable to calculate the distance. To address this problem, we implement the algorithm in log domain and compile it with numba. \n"
   ]
  },
  {
   "cell_type": "code",
   "execution_count": 10,
   "metadata": {},
   "outputs": [
    {
     "name": "stdout",
     "output_type": "stream",
     "text": [
      "lambda =  0 (10.06164666353842, 0)\n",
      "lambda =  20 (10.061646663537982, 230)\n",
      "lambda =  40 (10.061646663537982, 287)\n",
      "lambda =  60 (10.060680452304231, 2839)\n",
      "lambda =  80 (nan, 9999)\n",
      "lambda =  100 (nan, 9999)\n"
     ]
    }
   ],
   "source": [
    "lamdas = list(np.arange(0, 120, 20))\n",
    "for lam in lamdas:\n",
    "    print(\"lambda = \", lam, Sinkhorn(r2, c2, M2, lam, tol, maxiter))"
   ]
  },
  {
   "cell_type": "code",
   "execution_count": 12,
   "metadata": {},
   "outputs": [
    {
     "name": "stdout",
     "output_type": "stream",
     "text": [
      "lambda =  20 [10.06164666]\n",
      "lambda =  40 [10.06164666]\n",
      "lambda =  60 [10.06164666]\n",
      "lambda =  80 [nan]\n",
      "lambda =  100 [nan]\n"
     ]
    }
   ],
   "source": [
    "for lam in lamdas:\n",
    "    if lam != 0:\n",
    "        print(\"lambda = \", lam, Sinkhorn(r2, c2, M2, lam, tol, maxiter, log_domain = True))"
   ]
  },
  {
   "cell_type": "code",
   "execution_count": null,
   "metadata": {},
   "outputs": [],
   "source": []
  }
 ],
 "metadata": {
  "kernelspec": {
   "display_name": "Python 3",
   "language": "python",
   "name": "python3"
  },
  "language_info": {
   "codemirror_mode": {
    "name": "ipython",
    "version": 3
   },
   "file_extension": ".py",
   "mimetype": "text/x-python",
   "name": "python",
   "nbconvert_exporter": "python",
   "pygments_lexer": "ipython3",
   "version": "3.8.5"
  }
 },
 "nbformat": 4,
 "nbformat_minor": 1
}
