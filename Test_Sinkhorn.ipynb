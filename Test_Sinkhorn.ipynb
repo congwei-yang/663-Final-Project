{
 "cells": [
  {
   "cell_type": "code",
   "execution_count": 2,
   "metadata": {
    "pycharm": {
     "name": "#%%\n"
    }
   },
   "outputs": [
    {
     "name": "stdout",
     "output_type": "stream",
     "text": [
      "Processing /Users/aidensmac/Documents/STA663/663-Final-Project\n",
      "Building wheels for collected packages: Sinkhorn-663\n",
      "  Building wheel for Sinkhorn-663 (setup.py) ... \u001b[?25lerror\n",
      "\u001b[31m  ERROR: Command errored out with exit status 1:\n",
      "   command: /opt/anaconda3/bin/python -u -c 'import sys, setuptools, tokenize; sys.argv[0] = '\"'\"'/private/var/folders/47/9666xjq91wggdq4vpz3q_r_80000gn/T/pip-req-build-y80ad3vm/setup.py'\"'\"'; __file__='\"'\"'/private/var/folders/47/9666xjq91wggdq4vpz3q_r_80000gn/T/pip-req-build-y80ad3vm/setup.py'\"'\"';f=getattr(tokenize, '\"'\"'open'\"'\"', open)(__file__);code=f.read().replace('\"'\"'\\r\\n'\"'\"', '\"'\"'\\n'\"'\"');f.close();exec(compile(code, __file__, '\"'\"'exec'\"'\"'))' bdist_wheel -d /private/var/folders/47/9666xjq91wggdq4vpz3q_r_80000gn/T/pip-wheel-y3a_80sg\n",
      "       cwd: /private/var/folders/47/9666xjq91wggdq4vpz3q_r_80000gn/T/pip-req-build-y80ad3vm/\n",
      "  Complete output (23 lines):\n",
      "  running bdist_wheel\n",
      "  running build\n",
      "  running build_py\n",
      "  creating build\n",
      "  creating build/lib.macosx-10.9-x86_64-3.7\n",
      "  creating build/lib.macosx-10.9-x86_64-3.7/Sinkhorn_663\n",
      "  copying Sinkhorn_663/Sinkhorn_main.py -> build/lib.macosx-10.9-x86_64-3.7/Sinkhorn_663\n",
      "  copying Sinkhorn_663/__init__.py -> build/lib.macosx-10.9-x86_64-3.7/Sinkhorn_663\n",
      "  copying Sinkhorn_663/log_domain_skh.py -> build/lib.macosx-10.9-x86_64-3.7/Sinkhorn_663\n",
      "  copying Sinkhorn_663/Sample_to_prob_vec.py -> build/lib.macosx-10.9-x86_64-3.7/Sinkhorn_663\n",
      "  copying Sinkhorn_663/Sinkhorn_v01.py -> build/lib.macosx-10.9-x86_64-3.7/Sinkhorn_663\n",
      "  running build_ext\n",
      "  gcc -Wno-unused-result -Wsign-compare -Wunreachable-code -DNDEBUG -g -fwrapv -O3 -Wall -Wstrict-prototypes -I/opt/anaconda3/include -arch x86_64 -I/opt/anaconda3/include -arch x86_64 -I/opt/anaconda3/include/python3.7m -c flagcheck.cpp -o flagcheck.o -std=c++17\n",
      "  building 'Skh_cpp' extension\n",
      "  creating build/temp.macosx-10.9-x86_64-3.7\n",
      "  creating build/temp.macosx-10.9-x86_64-3.7/Sinkhorn_663\n",
      "  gcc -Wno-unused-result -Wsign-compare -Wunreachable-code -DNDEBUG -g -fwrapv -O3 -Wall -Wstrict-prototypes -I/opt/anaconda3/include -arch x86_64 -I/opt/anaconda3/include -arch x86_64 -ISinkhorn_663/eigen -I/opt/anaconda3/lib/python3.7/site-packages/pybind11/include -I/opt/anaconda3/include/python3.7m -c Sinkhorn_663/Skh_cpp.cpp -o build/temp.macosx-10.9-x86_64-3.7/Sinkhorn_663/Skh_cpp.o -std=c++17 -mmacosx-version-min=10.14 -fvisibility=hidden -g0 -stdlib=libc++\n",
      "  In file included from Sinkhorn_663/Skh_cpp.cpp:4:\n",
      "  /opt/anaconda3/lib/python3.7/site-packages/pybind11/include/pybind11/eigen.h:36:10: fatal error: 'Eigen/Core' file not found\n",
      "  #include <Eigen/Core>\n",
      "           ^~~~~~~~~~~~\n",
      "  1 error generated.\n",
      "  error: command 'gcc' failed with exit status 1\n",
      "  ----------------------------------------\u001b[0m\n",
      "\u001b[31m  ERROR: Failed building wheel for Sinkhorn-663\u001b[0m\n",
      "\u001b[?25h  Running setup.py clean for Sinkhorn-663\n",
      "Failed to build Sinkhorn-663\n",
      "Installing collected packages: Sinkhorn-663\n",
      "    Running setup.py install for Sinkhorn-663 ... \u001b[?25lerror\n",
      "\u001b[31m    ERROR: Command errored out with exit status 1:\n",
      "     command: /opt/anaconda3/bin/python -u -c 'import sys, setuptools, tokenize; sys.argv[0] = '\"'\"'/private/var/folders/47/9666xjq91wggdq4vpz3q_r_80000gn/T/pip-req-build-y80ad3vm/setup.py'\"'\"'; __file__='\"'\"'/private/var/folders/47/9666xjq91wggdq4vpz3q_r_80000gn/T/pip-req-build-y80ad3vm/setup.py'\"'\"';f=getattr(tokenize, '\"'\"'open'\"'\"', open)(__file__);code=f.read().replace('\"'\"'\\r\\n'\"'\"', '\"'\"'\\n'\"'\"');f.close();exec(compile(code, __file__, '\"'\"'exec'\"'\"'))' install --record /private/var/folders/47/9666xjq91wggdq4vpz3q_r_80000gn/T/pip-record-lol8a7zb/install-record.txt --single-version-externally-managed --compile --install-headers /opt/anaconda3/include/python3.7m/Sinkhorn-663\n",
      "         cwd: /private/var/folders/47/9666xjq91wggdq4vpz3q_r_80000gn/T/pip-req-build-y80ad3vm/\n",
      "    Complete output (23 lines):\n",
      "    running install\n",
      "    running build\n",
      "    running build_py\n",
      "    creating build\n",
      "    creating build/lib.macosx-10.9-x86_64-3.7\n",
      "    creating build/lib.macosx-10.9-x86_64-3.7/Sinkhorn_663\n",
      "    copying Sinkhorn_663/Sinkhorn_main.py -> build/lib.macosx-10.9-x86_64-3.7/Sinkhorn_663\n",
      "    copying Sinkhorn_663/__init__.py -> build/lib.macosx-10.9-x86_64-3.7/Sinkhorn_663\n",
      "    copying Sinkhorn_663/log_domain_skh.py -> build/lib.macosx-10.9-x86_64-3.7/Sinkhorn_663\n",
      "    copying Sinkhorn_663/Sample_to_prob_vec.py -> build/lib.macosx-10.9-x86_64-3.7/Sinkhorn_663\n",
      "    copying Sinkhorn_663/Sinkhorn_v01.py -> build/lib.macosx-10.9-x86_64-3.7/Sinkhorn_663\n",
      "    running build_ext\n",
      "    gcc -Wno-unused-result -Wsign-compare -Wunreachable-code -DNDEBUG -g -fwrapv -O3 -Wall -Wstrict-prototypes -I/opt/anaconda3/include -arch x86_64 -I/opt/anaconda3/include -arch x86_64 -I/opt/anaconda3/include/python3.7m -c flagcheck.cpp -o flagcheck.o -std=c++17\n",
      "    building 'Skh_cpp' extension\n",
      "    creating build/temp.macosx-10.9-x86_64-3.7\n",
      "    creating build/temp.macosx-10.9-x86_64-3.7/Sinkhorn_663\n",
      "    gcc -Wno-unused-result -Wsign-compare -Wunreachable-code -DNDEBUG -g -fwrapv -O3 -Wall -Wstrict-prototypes -I/opt/anaconda3/include -arch x86_64 -I/opt/anaconda3/include -arch x86_64 -ISinkhorn_663/eigen -I/opt/anaconda3/lib/python3.7/site-packages/pybind11/include -I/opt/anaconda3/include/python3.7m -c Sinkhorn_663/Skh_cpp.cpp -o build/temp.macosx-10.9-x86_64-3.7/Sinkhorn_663/Skh_cpp.o -std=c++17 -mmacosx-version-min=10.14 -fvisibility=hidden -g0 -stdlib=libc++\n",
      "    In file included from Sinkhorn_663/Skh_cpp.cpp:4:\n",
      "    /opt/anaconda3/lib/python3.7/site-packages/pybind11/include/pybind11/eigen.h:36:10: fatal error: 'Eigen/Core' file not found\n",
      "    #include <Eigen/Core>\n",
      "             ^~~~~~~~~~~~\n",
      "    1 error generated.\n",
      "    error: command 'gcc' failed with exit status 1\n",
      "    ----------------------------------------\u001b[0m\n",
      "\u001b[31mERROR: Command errored out with exit status 1: /opt/anaconda3/bin/python -u -c 'import sys, setuptools, tokenize; sys.argv[0] = '\"'\"'/private/var/folders/47/9666xjq91wggdq4vpz3q_r_80000gn/T/pip-req-build-y80ad3vm/setup.py'\"'\"'; __file__='\"'\"'/private/var/folders/47/9666xjq91wggdq4vpz3q_r_80000gn/T/pip-req-build-y80ad3vm/setup.py'\"'\"';f=getattr(tokenize, '\"'\"'open'\"'\"', open)(__file__);code=f.read().replace('\"'\"'\\r\\n'\"'\"', '\"'\"'\\n'\"'\"');f.close();exec(compile(code, __file__, '\"'\"'exec'\"'\"'))' install --record /private/var/folders/47/9666xjq91wggdq4vpz3q_r_80000gn/T/pip-record-lol8a7zb/install-record.txt --single-version-externally-managed --compile --install-headers /opt/anaconda3/include/python3.7m/Sinkhorn-663 Check the logs for full command output.\u001b[0m\n",
      "\u001b[?25h"
     ]
    }
   ],
   "source": [
    "# install our package\n",
    "! pip install ."
   ]
  },
  {
   "cell_type": "code",
   "execution_count": 74,
   "metadata": {},
   "outputs": [],
   "source": [
    "from Sinkhorn_663 import Sinkhorn, log_domain_sinkhorn_2, Sinkhorn_numba, sample_to_prob_vec, sample_to_prob_vec_nD\n",
    "from Skh_cpp import Sinkhorn_cpp"
   ]
  },
  {
   "cell_type": "markdown",
   "metadata": {},
   "source": [
    "## Test"
   ]
  },
  {
   "cell_type": "markdown",
   "metadata": {},
   "source": [
    "### Simulation Data"
   ]
  },
  {
   "cell_type": "code",
   "execution_count": 75,
   "metadata": {},
   "outputs": [],
   "source": [
    "import numpy as np"
   ]
  },
  {
   "cell_type": "code",
   "execution_count": 76,
   "metadata": {},
   "outputs": [],
   "source": [
    "# create simulation data\n",
    "N = 5000\n",
    "np.random.seed(1)\n",
    "u = np.random.normal(loc = 0, size = N)\n",
    "v = np.random.normal(loc = 10, size = N)\n",
    "Cost, p, q = sample_to_prob_vec(u, v, 1)"
   ]
  },
  {
   "cell_type": "markdown",
   "metadata": {},
   "source": [
    "### Check results"
   ]
  },
  {
   "cell_type": "code",
   "execution_count": 77,
   "metadata": {},
   "outputs": [
    {
     "data": {
      "text/plain": [
       "(9.96780555006323, 3)"
      ]
     },
     "execution_count": 77,
     "metadata": {},
     "output_type": "execute_result"
    }
   ],
   "source": [
    "# Serial Numba version\n",
    "Sinkhorn(p, q, Cost)"
   ]
  },
  {
   "cell_type": "code",
   "execution_count": 78,
   "metadata": {},
   "outputs": [
    {
     "data": {
      "text/plain": [
       "array([9.96780555])"
      ]
     },
     "execution_count": 78,
     "metadata": {},
     "output_type": "execute_result"
    }
   ],
   "source": [
    "# Parallel Numba version in log domain\n",
    "Sinkhorn(p, q, Cost, log_domain = True)"
   ]
  },
  {
   "cell_type": "code",
   "execution_count": 73,
   "metadata": {},
   "outputs": [
    {
     "data": {
      "text/plain": [
       "array([9.96780555])"
      ]
     },
     "execution_count": 73,
     "metadata": {},
     "output_type": "execute_result"
    }
   ],
   "source": [
    "# cpp version\n",
    "Sinkhorn_cpp(p, q.reshape(-1, 1), Cost, 20, 1e-6, 50)"
   ]
  },
  {
   "cell_type": "markdown",
   "metadata": {},
   "source": [
    "## Time"
   ]
  },
  {
   "cell_type": "code",
   "execution_count": 79,
   "metadata": {},
   "outputs": [
    {
     "name": "stdout",
     "output_type": "stream",
     "text": [
      "4.52 s ± 140 ms per loop (mean ± std. dev. of 3 runs, 3 loops each)\n"
     ]
    }
   ],
   "source": [
    "%timeit -r3 -n3 Sinkhorn(p, q, Cost)"
   ]
  },
  {
   "cell_type": "code",
   "execution_count": 80,
   "metadata": {},
   "outputs": [
    {
     "name": "stdout",
     "output_type": "stream",
     "text": [
      "2.53 s ± 123 ms per loop (mean ± std. dev. of 3 runs, 3 loops each)\n"
     ]
    }
   ],
   "source": [
    "%timeit -r3 -n3 Sinkhorn(p, q, Cost, log_domain = True)"
   ]
  },
  {
   "cell_type": "code",
   "execution_count": 81,
   "metadata": {},
   "outputs": [
    {
     "name": "stdout",
     "output_type": "stream",
     "text": [
      "4.34 s ± 262 ms per loop (mean ± std. dev. of 3 runs, 3 loops each)\n"
     ]
    }
   ],
   "source": [
    "%timeit -r3 -n3 Sinkhorn_cpp(p, q.reshape(-1, 1), Cost, 20, 1e-6, 50)"
   ]
  }
 ],
 "metadata": {
  "kernelspec": {
   "display_name": "Python 3",
   "language": "python",
   "name": "python3"
  },
  "language_info": {
   "codemirror_mode": {
    "name": "ipython",
    "version": 3
   },
   "file_extension": ".py",
   "mimetype": "text/x-python",
   "name": "python",
   "nbconvert_exporter": "python",
   "pygments_lexer": "ipython3",
   "version": "3.7.4"
  }
 },
 "nbformat": 4,
 "nbformat_minor": 1
}
