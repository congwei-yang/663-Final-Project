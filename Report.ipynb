{
 "cells": [
  {
   "cell_type": "code",
   "execution_count": 1,
   "metadata": {},
   "outputs": [],
   "source": [
    "from sinkhorn_663 import sinkhorn, log_domain_sinkhorn, sinkhorn_numba, sinkhorn_numba_parallel\n",
    "from sinkhorn_663 import sample_to_prob_vec, sample_to_prob_vec_nD\n",
    "from skh_cpp import sinkhorn_cpp\n",
    "import numpy as np\n",
    "import matplotlib.pyplot as plt\n",
    "from sinkhorn_663.image import cost_mat, flatten, remove_zeros"
   ]
  },
  {
   "cell_type": "markdown",
   "metadata": {},
   "source": [
    "## 2.1 Basic implementation"
   ]
  },
  {
   "cell_type": "markdown",
   "metadata": {},
   "source": [
    "First, we follow the above description of algorithm to implement it in plain Python as a baseline. We use the functions in package *numpy* to do matrix operations. The Sinkhorn distance and iteration times would be returned. As in the above description, the algorithm could calculate the matrix $P^{\\lambda}$ by Sinkhorn's fixed point iteration $(u, v) \\leftarrow (r./Kv, c./K'u)$. Furthermore, the iteration could been simplified to one single iteration $u\\leftarrow 1./(\\tilde K(c./K'u))$. We use $|u_{new} - u|<tol$ as the stopping criterion."
   ]
  },
  {
   "cell_type": "code",
   "execution_count": 3,
   "metadata": {},
   "outputs": [],
   "source": [
    "def Sinkhorn_plain(r, C, M, lamda, tol = 1e-6, maxiter = 10000):\n",
    "    M = M[r > 0]\n",
    "    r = r[r > 0]\n",
    "    K = np.exp(-lamda * M)\n",
    "    N = np.shape(C)[1]\n",
    "    u = np.ones((len(r), N)) / len(r)\n",
    "    K_tilde = np.diag(1/r) @ K\n",
    "    d_prev = np.repeat(2., N)\n",
    "    d = np.ones(N) + 0.5\n",
    "    for i in range(maxiter):\n",
    "        u_new = 1/(K_tilde @ (C / (K.T @ u)))\n",
    "        if np.max(np.abs(u_new - u)) <= tol:\n",
    "            break\n",
    "        u = u_new\n",
    "    v = C/(K.T @ u)\n",
    "    d = np.sum(u * ((K * M) @ v), axis = 0)\n",
    "    return d[0], i"
   ]
  },
  {
   "cell_type": "markdown",
   "metadata": {},
   "source": [
    "### 2.1.1 Test  with simulation data and check results"
   ]
  },
  {
   "cell_type": "markdown",
   "metadata": {},
   "source": [
    "To verify the correctness of our implementation, we generate some simulation data and test the algorithm on it. Further optimized algorithms would also be tested on them to check results and compare performance. \n",
    "\n",
    "As a start, we consider the situation where the empirical measures $r$ and $c$ come from a same distribution. We generate two groups of samples from a same distribution $\\text{Beta}(1, 2)$, use the function *sample_to_prob_vec* to convert samples to vectors and cost matrix as inputs, and calculate the distance by our function. Here we choose sample size $N = 3000$, $\\text{maxiter} = 10000$, $\\text{tol} = 1e-6$, $\\lambda = 20$. The result is close to $0$ es expected. It is a little larger than $0$ because of the entropy regularization."
   ]
  },
  {
   "cell_type": "code",
   "execution_count": 7,
   "metadata": {},
   "outputs": [],
   "source": [
    "# create simulation data\n",
    "N = 3000\n",
    "np.random.seed(1)\n",
    "u1 = np.random.beta(a = 1, b = 2, size = N)\n",
    "v1 = np.random.beta(a = 1, b = 2, size = N)\n",
    "M1, r1, c1 = sample_to_prob_vec(u1, v1)\n",
    "c1 = c1.reshape(-1, 1)\n",
    "# set parameters\n",
    "maxiter = 10000\n",
    "tol = 1e-6\n",
    "lamda = 20"
   ]
  },
  {
   "cell_type": "code",
   "execution_count": 5,
   "metadata": {},
   "outputs": [
    {
     "data": {
      "text/plain": [
       "(0.047851415045381665, 36)"
      ]
     },
     "execution_count": 5,
     "metadata": {},
     "output_type": "execute_result"
    }
   ],
   "source": [
    "Sinkhorn_plain(r1, c1, M1, lamda, tol, maxiter)"
   ]
  },
  {
   "cell_type": "markdown",
   "metadata": {},
   "source": [
    "Then we test on another simulation data from distributions with a setted known OT distance. Distributions $\\text{Uniform}(0, 1)$ and $\\text{Uniform}(10, 11)$ are used, which have a known OT distance $= 10$. The output of *Sinkhorn_plain* is close to 10 and a little larger than $10$ as expected."
   ]
  },
  {
   "cell_type": "code",
   "execution_count": 60,
   "metadata": {},
   "outputs": [],
   "source": [
    "np.random.seed(1)\n",
    "u2 = np.random.uniform(0, 1, size = N)\n",
    "v2 = np.random.uniform(10, 11, size = N)\n",
    "M2, r2, c2 = sample_to_prob_vec(u2, v2, 1)\n",
    "c2 = c2.reshape(-1, 1)"
   ]
  },
  {
   "cell_type": "code",
   "execution_count": 7,
   "metadata": {},
   "outputs": [
    {
     "data": {
      "text/plain": [
       "(10.061646663537982, 241)"
      ]
     },
     "execution_count": 7,
     "metadata": {},
     "output_type": "execute_result"
    }
   ],
   "source": [
    "Sinkhorn_plain(r2, c2, M2, lamda, tol, maxiter)"
   ]
  },
  {
   "cell_type": "markdown",
   "metadata": {},
   "source": [
    "### 2.1.2 Profiling"
   ]
  },
  {
   "cell_type": "markdown",
   "metadata": {},
   "source": [
    "Before diving deeper to optimization, we first use *profile* to profile the plain version of implementation."
   ]
  },
  {
   "cell_type": "code",
   "execution_count": 8,
   "metadata": {},
   "outputs": [],
   "source": [
    "import profile"
   ]
  },
  {
   "cell_type": "code",
   "execution_count": 9,
   "metadata": {},
   "outputs": [
    {
     "name": "stdout",
     "output_type": "stream",
     "text": [
      "         346 function calls in 5.819 seconds\n",
      "\n",
      "   Ordered by: standard name\n",
      "\n",
      "   ncalls  tottime  percall  cumtime  percall filename:lineno(function)\n",
      "        1    0.000    0.000    0.000    0.000 :0(abs)\n",
      "        2    0.000    0.000    0.000    0.000 :0(array)\n",
      "        2    0.000    0.000    0.000    0.000 :0(empty)\n",
      "        1    0.000    0.000    5.819    5.819 :0(exec)\n",
      "        2    0.000    0.000    0.000    0.000 :0(getattr)\n",
      "       43    0.002    0.000    0.077    0.002 :0(implement_array_function)\n",
      "        1    0.000    0.000    0.000    0.000 :0(isinstance)\n",
      "       38    0.001    0.000    0.001    0.000 :0(items)\n",
      "        3    0.000    0.000    0.000    0.000 :0(len)\n",
      "       38    0.008    0.000    0.008    0.000 :0(reduce)\n",
      "        1    0.000    0.000    0.000    0.000 :0(repeat)\n",
      "        1    0.000    0.000    0.000    0.000 :0(setprofile)\n",
      "        1    0.057    0.057    0.057    0.057 :0(zeros)\n",
      "       37    0.003    0.000    0.021    0.001 <__array_function__ internals>:2(amax)\n",
      "        2    0.000    0.000    0.000    0.000 <__array_function__ internals>:2(copyto)\n",
      "        1    0.000    0.000    0.058    0.058 <__array_function__ internals>:2(diag)\n",
      "        1    0.000    0.000    0.001    0.001 <__array_function__ internals>:2(repeat)\n",
      "        1    0.000    0.000    0.000    0.000 <__array_function__ internals>:2(shape)\n",
      "        1    0.000    0.000    0.000    0.000 <__array_function__ internals>:2(sum)\n",
      "        1    5.665    5.665    5.746    5.746 <ipython-input-3-2ad1db9eb688>:1(Sinkhorn_plain)\n",
      "        1    0.072    0.072    5.818    5.818 <string>:1(<module>)\n",
      "        1    0.000    0.000    0.000    0.000 _asarray.py:16(asarray)\n",
      "        1    0.000    0.000    0.000    0.000 _asarray.py:88(asanyarray)\n",
      "        1    0.000    0.000    0.000    0.000 fromnumeric.py:1852(_shape_dispatcher)\n",
      "        1    0.000    0.000    0.000    0.000 fromnumeric.py:1856(shape)\n",
      "        1    0.000    0.000    0.000    0.000 fromnumeric.py:2040(_sum_dispatcher)\n",
      "        1    0.000    0.000    0.000    0.000 fromnumeric.py:2045(sum)\n",
      "       37    0.001    0.000    0.001    0.000 fromnumeric.py:2499(_amax_dispatcher)\n",
      "       37    0.002    0.000    0.016    0.000 fromnumeric.py:2504(amax)\n",
      "        1    0.000    0.000    0.000    0.000 fromnumeric.py:42(_wrapit)\n",
      "        1    0.000    0.000    0.000    0.000 fromnumeric.py:435(_repeat_dispatcher)\n",
      "        1    0.000    0.000    0.001    0.001 fromnumeric.py:439(repeat)\n",
      "        1    0.000    0.000    0.001    0.001 fromnumeric.py:55(_wrapfunc)\n",
      "       38    0.004    0.000    0.014    0.000 fromnumeric.py:73(_wrapreduction)\n",
      "       38    0.001    0.000    0.001    0.000 fromnumeric.py:74(<dictcomp>)\n",
      "        2    0.000    0.000    0.000    0.000 multiarray.py:1043(copyto)\n",
      "        2    0.000    0.000    0.001    0.000 numeric.py:166(ones)\n",
      "        1    0.000    0.000    5.819    5.819 profile:0(Sinkhorn_plain(r1, c1, M1, lamda, tol, maxiter))\n",
      "        0    0.000             0.000          profile:0(profiler)\n",
      "        1    0.000    0.000    0.000    0.000 twodim_base.py:212(_diag_dispatcher)\n",
      "        1    0.001    0.001    0.058    0.058 twodim_base.py:216(diag)\n",
      "\n",
      "\n"
     ]
    }
   ],
   "source": [
    "profile.run(\"Sinkhorn_plain(r1, c1, M1, lamda, tol, maxiter)\")"
   ]
  },
  {
   "cell_type": "markdown",
   "metadata": {},
   "source": [
    "## 2.2 Optimization"
   ]
  },
  {
   "cell_type": "markdown",
   "metadata": {},
   "source": [
    "(Descirbe numba, cpp, log_domain versions)"
   ]
  },
  {
   "cell_type": "markdown",
   "metadata": {},
   "source": [
    "### Time"
   ]
  },
  {
   "cell_type": "code",
   "execution_count": 10,
   "metadata": {
    "scrolled": true
   },
   "outputs": [
    {
     "name": "stdout",
     "output_type": "stream",
     "text": [
      "1.4 s ± 59.2 ms per loop (mean ± std. dev. of 7 runs, 1 loop each)\n",
      "2.83 s ± 292 ms per loop (mean ± std. dev. of 7 runs, 1 loop each)\n",
      "459 ms ± 11.4 ms per loop (mean ± std. dev. of 7 runs, 1 loop each)\n"
     ]
    }
   ],
   "source": [
    "%timeit Sinkhorn_plain(r2, c2, M2, lamda, tol, maxiter)\n",
    "%timeit Sinkhorn(r2, c2, M2, lamda, tol, maxiter)\n",
    "%timeit Sinkhorn_cpp(r2, c2, M2, lamda, tol, maxiter)"
   ]
  },
  {
   "cell_type": "markdown",
   "metadata": {},
   "source": [
    "### Overflow"
   ]
  },
  {
   "cell_type": "markdown",
   "metadata": {},
   "source": [
    "Another issue is that we need to calculate $K = e^{-\\lambda M}$ in our algorithm. When $\\lambda$ becomes large, it may overflow and become unable to calculate the distance. To address this problem, we implement the algorithm in log domain and compile it with numba. Then we compare the results of Sinkhorn and log-domain Sinkhorn algorithms when $\\lambda$ is increasing in a larger range.\n"
   ]
  },
  {
   "cell_type": "code",
   "execution_count": 13,
   "metadata": {},
   "outputs": [],
   "source": [
    "lamda = np.linspace(120, 180, 61)\n",
    "skh_res = np.zeros(61)\n",
    "log_skh_res = np.zeros(61)\n",
    "test_samp1 = np.random.beta(a = 2, b = 5, size = 2000)\n",
    "test_samp2 = np.random.uniform(low = 5, high = 6, size = 2000)\n",
    "for i in range(61):\n",
    "    M, r, c = sample_to_prob_vec(test_samp1, test_samp2, sigma = 0)\n",
    "    skh_res[i] = Sinkhorn(r, c, M, lamda[i], tol, maxiter)[0]\n",
    "    log_skh_res[i] = Sinkhorn(r, c, M, lamda[i], tol, maxiter, log_domain = True)[0]"
   ]
  },
  {
   "cell_type": "code",
   "execution_count": 16,
   "metadata": {},
   "outputs": [
    {
     "data": {
      "image/png": "[encoded data removed]",
      "text/plain": [
       "<Figure size 1008x576 with 1 Axes>"
      ]
     },
     "metadata": {
      "needs_background": "light"
     },
     "output_type": "display_data"
    }
   ],
   "source": [
    "plt.figure(figsize = (14, 8))\n",
    "plt.plot(lamda, skh_res, label = \"Sinkhorn\")\n",
    "plt.plot(lamda, log_skh_res, label = \"log-domain Sinkhorn\")\n",
    "plt.xlabel(\"$\\lambda$\", fontsize = 18)\n",
    "plt.ylabel(\"Sinkhorn result\", fontsize = 16)\n",
    "plt.title(\"Sinkhorn and log-domain Sinkhorn results vs $\\lambda$\", fontsize = 16)\n",
    "plt.legend(fontsize = 16)\n",
    "pass"
   ]
  },
  {
   "cell_type": "markdown",
   "metadata": {},
   "source": [
    "We can see that, with $P: Beta(2, 5)$ and $Q: Uniform(5, 6)$, the Sinkhorn algorithm produces inaccurate results with $\\lambda > 125$, and the overflow/underflow occurs at $\\lambda = 136$. On the other hand, the log-domain Sinkhorn continue to produce relatively accurate result up to $\\lambda = 149$. "
   ]
  },
  {
   "cell_type": "markdown",
   "metadata": {},
   "source": [
    "## 3. Applications"
   ]
  },
  {
   "cell_type": "markdown",
   "metadata": {},
   "source": [
    "### 3.1 Empirical Complexity on simulation data"
   ]
  },
  {
   "cell_type": "code",
   "execution_count": 73,
   "metadata": {},
   "outputs": [],
   "source": [
    "np.random.seed(1)\n",
    "size = [64, 128, 256, 512, 1024, 2048]\n",
    "nrep = 10\n",
    "iter_num_1 = np.zeros((nrep, len(size)))\n",
    "iter_num_10 = np.zeros((nrep, len(size)))\n",
    "iter_num_50 = np.zeros((nrep, len(size)))\n",
    "for j in range(nrep):\n",
    "    for i in range(6):\n",
    "        p_samp = np.random.beta(a = 2, b = 5, size = size[i])\n",
    "        q_samp = np.random.normal(size = size[i])\n",
    "        M, r, c = sample_to_prob_vec(p_samp, q_samp, sigma = 0)\n",
    "        iter_num_1[j, i] = Sinkhorn(r, c, M, 1, 1e-11, maxiter)[1]\n",
    "        iter_num_10[j, i] = Sinkhorn(r, c, M, 10, 1e-11, maxiter)[1]\n",
    "        iter_num_50[j, i] = Sinkhorn(r, c, M, 50, 1e-11, maxiter)[1]"
   ]
  },
  {
   "cell_type": "code",
   "execution_count": 74,
   "metadata": {},
   "outputs": [],
   "source": [
    "mean_iter_1 = np.mean(iter_num_1, axis = 0)\n",
    "mean_iter_10 = np.mean(iter_num_10, axis = 0)\n",
    "mean_iter_50 = np.mean(iter_num_50, axis = 0)\n",
    "\n",
    "std_iter_1 = np.std(iter_num_1, axis = 0)\n",
    "std_iter_10 = np.std(iter_num_10, axis = 0)\n",
    "std_iter_50 = np.std(iter_num_50, axis = 0)"
   ]
  },
  {
   "cell_type": "code",
   "execution_count": 75,
   "metadata": {},
   "outputs": [
    {
     "data": {
      "image/png": "[encoded data removed]",
      "text/plain": [
       "<Figure size 1080x720 with 1 Axes>"
      ]
     },
     "metadata": {
      "needs_background": "light"
     },
     "output_type": "display_data"
    }
   ],
   "source": [
    "plt.figure(figsize = (15, 10))\n",
    "plt.plot(size, mean_iter_1, label = \"$\\lambda = 1$\", marker = 'o')\n",
    "plt.fill_between(size, mean_iter_1 - std_iter_1, mean_iter_1 + std_iter_1, alpha = 0.2)\n",
    "plt.plot(size, mean_iter_10, label = \"$\\lambda = 10$\", marker = 'o')\n",
    "plt.fill_between(size, mean_iter_10 - std_iter_10, mean_iter_10 + std_iter_10, alpha = 0.2)\n",
    "plt.plot(size, mean_iter_50, label = \"$\\lambda = 50$\", marker = 'o')\n",
    "plt.fill_between(size, mean_iter_50 - std_iter_50, mean_iter_50 + std_iter_50, alpha = 0.2)\n",
    "plt.yscale('log')\n",
    "plt.xscale('log')\n",
    "plt.xticks(ticks = size)\n",
    "plt.xlabel(\"Histogram size\", fontsize = 16)\n",
    "plt.ylabel(\"Sinkhorn Iteration Number\", fontsize = 16)\n",
    "plt.title(\"Sinkhorn Iteration Number under Different Histogram Size and $\\lambda$\", fontsize = 16)\n",
    "plt.legend(bbox_to_anchor=(1, 1), loc='upper left', fontsize = 16)\n",
    "pass"
   ]
  },
  {
   "cell_type": "markdown",
   "metadata": {},
   "source": [
    "### 3.2 Applications to real data sets"
   ]
  },
  {
   "cell_type": "markdown",
   "metadata": {},
   "source": [
    "### 3.2.1 Comparative analysis"
   ]
  },
  {
   "cell_type": "markdown",
   "metadata": {},
   "source": [
    "In this part, we test the algorithm on the MNIST digits dataset as a real world example, which has been used in the original paper[1]. Since earth mover's distance (EMD) is the classical optimal transport distance to measure the difference between probility measures, we also want to compare Sinkhorn distance with EMD when applied to real data sets. According to the theoretical background that Sinkhorn distance $d_M^\\lambda(r, c) = \\min_{P\\in U(r, c)}\\langle P, M\\rangle-\\frac{1}{\\lambda}h(P)$, Sinkhorn distance is expected to be larger than EMD due to the regularization and converge to EMD when $\\lambda\\rightarrow+\\infty$. To evaluate this convergence, we choose different $\\lambda$ and plot the distribution of deviation $(d_M^\\lambda(r, c) - EMD) / EMD$.\n",
    "\n",
    "1000 pairs of images are chosen from the MNIST digits dataset. Each image would be flattened to a vector of intensities as our input. Cost matrix is the distance between the coordinates of pixels in the image. EMD are calculated using python package *POT* (Python Optimal Transport). "
   ]
  },
  {
   "cell_type": "code",
   "execution_count": 5,
   "metadata": {},
   "outputs": [],
   "source": [
    "import scipy.io\n",
    "import pandas as pd\n",
    "import ot"
   ]
  },
  {
   "cell_type": "code",
   "execution_count": 6,
   "metadata": {},
   "outputs": [],
   "source": [
    "mnist = scipy.io.loadmat('data/mnist.mat')\n",
    "images = mnist.get('trainX')"
   ]
  },
  {
   "cell_type": "code",
   "execution_count": 7,
   "metadata": {},
   "outputs": [],
   "source": [
    "N = 1000\n",
    "d = np.sqrt(len(images[1, :]))\n",
    "lams = [1, 5, 10, 20, 50]\n",
    "EMD = np.zeros((len(lams), N))\n",
    "SKH = np.zeros((len(lams), N))\n",
    "np.random.seed(2)\n",
    "X1 = np.random.choice(len(images), N)\n",
    "X2 = np.random.choice(len(images), N)\n",
    "M = cost_mat(int(d))\n",
    "p, q = flatten(images[X1, :]), flatten(images[X2, :])"
   ]
  },
  {
   "cell_type": "code",
   "execution_count": 34,
   "metadata": {},
   "outputs": [
    {
     "name": "stdout",
     "output_type": "stream",
     "text": [
      "0\n",
      "1\n",
      "2\n",
      "3\n",
      "4\n"
     ]
    }
   ],
   "source": [
    "for i, lam in enumerate(lams):\n",
    "    print(i)\n",
    "    for j in range(N):\n",
    "        SKH[i, j] = Sinkhorn(p[j], q[j], M, lam, tol, 5000)[0]\n",
    "        EMD[i, j] = ot.emd2(p[j], q[j], M)"
   ]
  },
  {
   "cell_type": "code",
   "execution_count": 37,
   "metadata": {},
   "outputs": [],
   "source": [
    "df = pd.DataFrame(((SKH - EMD) / EMD).T, columns = ['1', '5','10','20','50'])"
   ]
  },
  {
   "cell_type": "code",
   "execution_count": 38,
   "metadata": {},
   "outputs": [
    {
     "data": {
      "image/png": "[encoded data removed]",
      "text/plain": [
       "<Figure size 432x288 with 1 Axes>"
      ]
     },
     "metadata": {
      "needs_background": "light"
     },
     "output_type": "display_data"
    }
   ],
   "source": [
    "df.boxplot()\n",
    "pass"
   ]
  },
  {
   "cell_type": "markdown",
   "metadata": {},
   "source": [
    "As shown in the boxplot, the deviation $(d_M^\\lambda(r, c) - EMD) / EMD$ decreases when we use a larger $\\lambda$. Especially, when $\\lambda$ is $80$, the deviation is close to zero. This is reasonable because when $\\lambda$ is larger, the coefficient of regularization term is smaller, and thus Sinkhorn distance becomes closer to EMD."
   ]
  },
  {
   "cell_type": "code",
   "execution_count": 46,
   "metadata": {},
   "outputs": [
    {
     "data": {
      "text/plain": [
       "nan"
      ]
     },
     "execution_count": 46,
     "metadata": {},
     "output_type": "execute_result"
    }
   ],
   "source": [
    "Sinkhorn(p[1], q[1], M, 1, tol, 5000, log_domain=True)[0]"
   ]
  },
  {
   "cell_type": "code",
   "execution_count": null,
   "metadata": {},
   "outputs": [],
   "source": [
    "Sinkhorn_cpp(p[1], q[1], M, 1, tol, 5000)[0]"
   ]
  },
  {
   "cell_type": "code",
   "execution_count": null,
   "metadata": {},
   "outputs": [],
   "source": [
    "Sinkhorn(p[1], q[1], M, 1, tol, 5000)[0]"
   ]
  },
  {
   "cell_type": "code",
   "execution_count": 4,
   "metadata": {},
   "outputs": [
    {
     "name": "stdout",
     "output_type": "stream",
     "text": [
      "running sdist\n",
      "running egg_info\n",
      "writing sinkhorn_663.egg-info/PKG-INFO\n",
      "writing dependency_links to sinkhorn_663.egg-info/dependency_links.txt\n",
      "writing top-level names to sinkhorn_663.egg-info/top_level.txt\n",
      "reading manifest file 'sinkhorn_663.egg-info/SOURCES.txt'\n",
      "writing manifest file 'sinkhorn_663.egg-info/SOURCES.txt'\n",
      "running check\n",
      "creating sinkhorn_663-0.1\n",
      "creating sinkhorn_663-0.1/sinkhorn_663\n",
      "creating sinkhorn_663-0.1/sinkhorn_663.egg-info\n",
      "creating sinkhorn_663-0.1/sinkhorn_663/image\n",
      "copying files to sinkhorn_663-0.1...\n",
      "copying README.md -> sinkhorn_663-0.1\n",
      "copying setup.py -> sinkhorn_663-0.1\n",
      "copying sinkhorn_663/__init__.py -> sinkhorn_663-0.1/sinkhorn_663\n",
      "copying sinkhorn_663/log_domain_skh.py -> sinkhorn_663-0.1/sinkhorn_663\n",
      "copying sinkhorn_663/sample_to_prob_vec.py -> sinkhorn_663-0.1/sinkhorn_663\n",
      "copying sinkhorn_663/sinkhorn_main.py -> sinkhorn_663-0.1/sinkhorn_663\n",
      "copying sinkhorn_663/sinkhorn_numba.py -> sinkhorn_663-0.1/sinkhorn_663\n",
      "copying sinkhorn_663/skh_cpp.cpp -> sinkhorn_663-0.1/sinkhorn_663\n",
      "copying sinkhorn_663.egg-info/PKG-INFO -> sinkhorn_663-0.1/sinkhorn_663.egg-info\n",
      "copying sinkhorn_663.egg-info/SOURCES.txt -> sinkhorn_663-0.1/sinkhorn_663.egg-info\n",
      "copying sinkhorn_663.egg-info/dependency_links.txt -> sinkhorn_663-0.1/sinkhorn_663.egg-info\n",
      "copying sinkhorn_663.egg-info/top_level.txt -> sinkhorn_663-0.1/sinkhorn_663.egg-info\n",
      "copying sinkhorn_663/image/__init__.py -> sinkhorn_663-0.1/sinkhorn_663/image\n",
      "copying sinkhorn_663/image/cost_mat.py -> sinkhorn_663-0.1/sinkhorn_663/image\n",
      "copying sinkhorn_663/image/flatten.py -> sinkhorn_663-0.1/sinkhorn_663/image\n",
      "copying sinkhorn_663/image/remove_zero.py -> sinkhorn_663-0.1/sinkhorn_663/image\n",
      "Writing sinkhorn_663-0.1/setup.cfg\n",
      "Creating tar archive\n",
      "removing 'sinkhorn_663-0.1' (and everything under it)\n",
      "running bdist_wheel\n",
      "running build\n",
      "running build_py\n",
      "creating build\n",
      "creating build/lib.macosx-10.9-x86_64-3.8\n",
      "creating build/lib.macosx-10.9-x86_64-3.8/sinkhorn_663\n",
      "copying sinkhorn_663/sinkhorn_numba.py -> build/lib.macosx-10.9-x86_64-3.8/sinkhorn_663\n",
      "copying sinkhorn_663/sinkhorn_main.py -> build/lib.macosx-10.9-x86_64-3.8/sinkhorn_663\n",
      "copying sinkhorn_663/__init__.py -> build/lib.macosx-10.9-x86_64-3.8/sinkhorn_663\n",
      "copying sinkhorn_663/log_domain_skh.py -> build/lib.macosx-10.9-x86_64-3.8/sinkhorn_663\n",
      "copying sinkhorn_663/sample_to_prob_vec.py -> build/lib.macosx-10.9-x86_64-3.8/sinkhorn_663\n",
      "creating build/lib.macosx-10.9-x86_64-3.8/sinkhorn_663/image\n",
      "copying sinkhorn_663/image/remove_zero.py -> build/lib.macosx-10.9-x86_64-3.8/sinkhorn_663/image\n",
      "copying sinkhorn_663/image/flatten.py -> build/lib.macosx-10.9-x86_64-3.8/sinkhorn_663/image\n",
      "copying sinkhorn_663/image/cost_mat.py -> build/lib.macosx-10.9-x86_64-3.8/sinkhorn_663/image\n",
      "copying sinkhorn_663/image/__init__.py -> build/lib.macosx-10.9-x86_64-3.8/sinkhorn_663/image\n",
      "running build_ext\n",
      "gcc -Wno-unused-result -Wsign-compare -Wunreachable-code -DNDEBUG -g -fwrapv -O3 -Wall -Wstrict-prototypes -I/Users/flora/opt/anaconda3/include -arch x86_64 -I/Users/flora/opt/anaconda3/include -arch x86_64 -I/Users/flora/opt/anaconda3/include/python3.8 -c flagcheck.cpp -o flagcheck.o -std=c++17\n",
      "building 'skh_cpp' extension\n",
      "creating build/temp.macosx-10.9-x86_64-3.8\n",
      "creating build/temp.macosx-10.9-x86_64-3.8/sinkhorn_663\n",
      "gcc -Wno-unused-result -Wsign-compare -Wunreachable-code -DNDEBUG -g -fwrapv -O3 -Wall -Wstrict-prototypes -I/Users/flora/opt/anaconda3/include -arch x86_64 -I/Users/flora/opt/anaconda3/include -arch x86_64 -Isinkhorn_663 -I/Users/flora/opt/anaconda3/lib/python3.8/site-packages/pybind11/include -I/Users/flora/opt/anaconda3/include/python3.8 -c sinkhorn_663/skh_cpp.cpp -o build/temp.macosx-10.9-x86_64-3.8/sinkhorn_663/skh_cpp.o -std=c++17 -mmacosx-version-min=10.13 -fvisibility=hidden -g0 -stdlib=libc++\n",
      "g++ -bundle -undefined dynamic_lookup -L/Users/flora/opt/anaconda3/lib -arch x86_64 -L/Users/flora/opt/anaconda3/lib -arch x86_64 -arch x86_64 build/temp.macosx-10.9-x86_64-3.8/sinkhorn_663/skh_cpp.o -o build/lib.macosx-10.9-x86_64-3.8/skh_cpp.cpython-38-darwin.so -mmacosx-version-min=10.13 -stdlib=libc++\n",
      "installing to build/bdist.macosx-10.9-x86_64/wheel\n",
      "running install\n",
      "running install_lib\n",
      "creating build/bdist.macosx-10.9-x86_64\n",
      "creating build/bdist.macosx-10.9-x86_64/wheel\n",
      "copying build/lib.macosx-10.9-x86_64-3.8/skh_cpp.cpython-38-darwin.so -> build/bdist.macosx-10.9-x86_64/wheel\n",
      "creating build/bdist.macosx-10.9-x86_64/wheel/sinkhorn_663\n",
      "copying build/lib.macosx-10.9-x86_64-3.8/sinkhorn_663/sinkhorn_numba.py -> build/bdist.macosx-10.9-x86_64/wheel/sinkhorn_663\n",
      "copying build/lib.macosx-10.9-x86_64-3.8/sinkhorn_663/sinkhorn_main.py -> build/bdist.macosx-10.9-x86_64/wheel/sinkhorn_663\n",
      "copying build/lib.macosx-10.9-x86_64-3.8/sinkhorn_663/__init__.py -> build/bdist.macosx-10.9-x86_64/wheel/sinkhorn_663\n",
      "creating build/bdist.macosx-10.9-x86_64/wheel/sinkhorn_663/image\n",
      "copying build/lib.macosx-10.9-x86_64-3.8/sinkhorn_663/image/remove_zero.py -> build/bdist.macosx-10.9-x86_64/wheel/sinkhorn_663/image\n",
      "copying build/lib.macosx-10.9-x86_64-3.8/sinkhorn_663/image/flatten.py -> build/bdist.macosx-10.9-x86_64/wheel/sinkhorn_663/image\n",
      "copying build/lib.macosx-10.9-x86_64-3.8/sinkhorn_663/image/cost_mat.py -> build/bdist.macosx-10.9-x86_64/wheel/sinkhorn_663/image\n",
      "copying build/lib.macosx-10.9-x86_64-3.8/sinkhorn_663/image/__init__.py -> build/bdist.macosx-10.9-x86_64/wheel/sinkhorn_663/image\n",
      "copying build/lib.macosx-10.9-x86_64-3.8/sinkhorn_663/log_domain_skh.py -> build/bdist.macosx-10.9-x86_64/wheel/sinkhorn_663\n",
      "copying build/lib.macosx-10.9-x86_64-3.8/sinkhorn_663/sample_to_prob_vec.py -> build/bdist.macosx-10.9-x86_64/wheel/sinkhorn_663\n",
      "running install_egg_info\n",
      "Copying sinkhorn_663.egg-info to build/bdist.macosx-10.9-x86_64/wheel/sinkhorn_663-0.1-py3.8.egg-info\n",
      "running install_scripts\n",
      "[WARNING] This wheel needs a higher macOS version than the version your Python interpreter is compiled against.  To silence this warning, set MACOSX_DEPLOYMENT_TARGET to at least 10_13 or recreate these files with lower MACOSX_DEPLOYMENT_TARGET:  \n",
      "build/bdist.macosx-10.9-x86_64/wheel/skh_cpp.cpython-38-darwin.soadding license file \"LICENSE\" (matched pattern \"LICEN[CS]E*\")\n",
      "[WARNING] This wheel needs a higher macOS version than the version your Python interpreter is compiled against.  To silence this warning, set MACOSX_DEPLOYMENT_TARGET to at least 10_13 or recreate these files with lower MACOSX_DEPLOYMENT_TARGET:  \n",
      "build/bdist.macosx-10.9-x86_64/wheel/skh_cpp.cpython-38-darwin.socreating build/bdist.macosx-10.9-x86_64/wheel/sinkhorn_663-0.1.dist-info/WHEEL\n",
      "creating 'dist/sinkhorn_663-0.1-cp38-cp38-macosx_10_13_x86_64.whl' and adding 'build/bdist.macosx-10.9-x86_64/wheel' to it\n",
      "adding 'skh_cpp.cpython-38-darwin.so'\n",
      "adding 'sinkhorn_663/__init__.py'\n",
      "adding 'sinkhorn_663/log_domain_skh.py'\n",
      "adding 'sinkhorn_663/sample_to_prob_vec.py'\n",
      "adding 'sinkhorn_663/sinkhorn_main.py'\n",
      "adding 'sinkhorn_663/sinkhorn_numba.py'\n",
      "adding 'sinkhorn_663/image/__init__.py'\n",
      "adding 'sinkhorn_663/image/cost_mat.py'\n",
      "adding 'sinkhorn_663/image/flatten.py'\n",
      "adding 'sinkhorn_663/image/remove_zero.py'\n",
      "adding 'sinkhorn_663-0.1.dist-info/LICENSE'\n",
      "adding 'sinkhorn_663-0.1.dist-info/METADATA'\n",
      "adding 'sinkhorn_663-0.1.dist-info/WHEEL'\n",
      "adding 'sinkhorn_663-0.1.dist-info/top_level.txt'\n",
      "adding 'sinkhorn_663-0.1.dist-info/RECORD'\n",
      "removing build/bdist.macosx-10.9-x86_64/wheel\n"
     ]
    }
   ],
   "source": [
    "! python setup.py sdist bdist_wheel"
   ]
  },
  {
   "cell_type": "code",
   "execution_count": 5,
   "metadata": {},
   "outputs": [
    {
     "name": "stdout",
     "output_type": "stream",
     "text": [
      "\u001b[31mInvalidConfiguration: Missing 'pypitest' section from the configuration file\r\n",
      "or not a complete URL in --repository-url.\r\n",
      "Maybe you have an out-dated '~/.pypirc' format?\r\n",
      "more info: https://packaging.python.org/specifications/pypirc/\r\n",
      "\u001b[0m\r\n",
      "\u001b[0m"
     ]
    }
   ],
   "source": [
    "! twine upload -r pypitest dist/sinkhorn_663-0.1.tar.gz\n",
    "! twine upload --repository testpypi dist/*"
   ]
  },
  {
   "cell_type": "code",
   "execution_count": 3,
   "metadata": {},
   "outputs": [
    {
     "name": "stdout",
     "output_type": "stream",
     "text": [
      "Looking in indexes: https://test.pypi.org/simple/\n",
      "\u001b[33mWARNING: Retrying (Retry(total=4, connect=None, read=None, redirect=None, status=None)) after connection broken by 'ReadTimeoutError(\"HTTPSConnectionPool(host='test.pypi.org', port=443): Read timed out. (read timeout=15)\")': /simple/sinkhorn-663/\u001b[0m\n",
      "\u001b[33mWARNING: Retrying (Retry(total=3, connect=None, read=None, redirect=None, status=None)) after connection broken by 'ReadTimeoutError(\"HTTPSConnectionPool(host='test.pypi.org', port=443): Read timed out. (read timeout=15)\")': /simple/sinkhorn-663/\u001b[0m\n",
      "Collecting sinkhorn_663\n",
      "  Downloading https://test-files.pythonhosted.org/packages/4b/fb/db6ce615f92e35641d2c1120cae2d4ec5542da9da7f06ca8832402e72528/sinkhorn_663-0.1.tar.gz (5.0 kB)\n",
      "Building wheels for collected packages: sinkhorn-663\n",
      "  Building wheel for sinkhorn-663 (setup.py) ... \u001b[?25lerror\n",
      "\u001b[31m  ERROR: Command errored out with exit status 1:\n",
      "   command: /Users/flora/opt/anaconda3/bin/python -u -c 'import sys, setuptools, tokenize; sys.argv[0] = '\"'\"'/private/var/folders/dg/d8_wtm952rsfp_znt4pcjxzw0000gn/T/pip-install-qmn6d4f6/sinkhorn-663/setup.py'\"'\"'; __file__='\"'\"'/private/var/folders/dg/d8_wtm952rsfp_znt4pcjxzw0000gn/T/pip-install-qmn6d4f6/sinkhorn-663/setup.py'\"'\"';f=getattr(tokenize, '\"'\"'open'\"'\"', open)(__file__);code=f.read().replace('\"'\"'\\r\\n'\"'\"', '\"'\"'\\n'\"'\"');f.close();exec(compile(code, __file__, '\"'\"'exec'\"'\"'))' bdist_wheel -d /private/var/folders/dg/d8_wtm952rsfp_znt4pcjxzw0000gn/T/pip-wheel-kd3gkkf3\n",
      "       cwd: /private/var/folders/dg/d8_wtm952rsfp_znt4pcjxzw0000gn/T/pip-install-qmn6d4f6/sinkhorn-663/\n",
      "  Complete output (28 lines):\n",
      "  running bdist_wheel\n",
      "  running build\n",
      "  running build_py\n",
      "  creating build\n",
      "  creating build/lib.macosx-10.9-x86_64-3.8\n",
      "  creating build/lib.macosx-10.9-x86_64-3.8/sinkhorn_663\n",
      "  copying sinkhorn_663/sinkhorn_numba.py -> build/lib.macosx-10.9-x86_64-3.8/sinkhorn_663\n",
      "  copying sinkhorn_663/sinkhorn_main.py -> build/lib.macosx-10.9-x86_64-3.8/sinkhorn_663\n",
      "  copying sinkhorn_663/__init__.py -> build/lib.macosx-10.9-x86_64-3.8/sinkhorn_663\n",
      "  copying sinkhorn_663/log_domain_skh.py -> build/lib.macosx-10.9-x86_64-3.8/sinkhorn_663\n",
      "  copying sinkhorn_663/sample_to_prob_vec.py -> build/lib.macosx-10.9-x86_64-3.8/sinkhorn_663\n",
      "  creating build/lib.macosx-10.9-x86_64-3.8/sinkhorn_663/image\n",
      "  copying sinkhorn_663/image/remove_zero.py -> build/lib.macosx-10.9-x86_64-3.8/sinkhorn_663/image\n",
      "  copying sinkhorn_663/image/flatten.py -> build/lib.macosx-10.9-x86_64-3.8/sinkhorn_663/image\n",
      "  copying sinkhorn_663/image/cost_mat.py -> build/lib.macosx-10.9-x86_64-3.8/sinkhorn_663/image\n",
      "  copying sinkhorn_663/image/__init__.py -> build/lib.macosx-10.9-x86_64-3.8/sinkhorn_663/image\n",
      "  running build_ext\n",
      "  gcc -Wno-unused-result -Wsign-compare -Wunreachable-code -DNDEBUG -g -fwrapv -O3 -Wall -Wstrict-prototypes -I/Users/flora/opt/anaconda3/include -arch x86_64 -I/Users/flora/opt/anaconda3/include -arch x86_64 -I/Users/flora/opt/anaconda3/include/python3.8 -c flagcheck.cpp -o flagcheck.o -std=c++17\n",
      "  building 'skh_cpp' extension\n",
      "  creating build/temp.macosx-10.9-x86_64-3.8\n",
      "  creating build/temp.macosx-10.9-x86_64-3.8/sinkhorn_663\n",
      "  gcc -Wno-unused-result -Wsign-compare -Wunreachable-code -DNDEBUG -g -fwrapv -O3 -Wall -Wstrict-prototypes -I/Users/flora/opt/anaconda3/include -arch x86_64 -I/Users/flora/opt/anaconda3/include -arch x86_64 -Isinkhorn_663 -I/Users/flora/opt/anaconda3/lib/python3.8/site-packages/pybind11/include -I/Users/flora/opt/anaconda3/include/python3.8 -c sinkhorn_663/skh_cpp.cpp -o build/temp.macosx-10.9-x86_64-3.8/sinkhorn_663/skh_cpp.o -std=c++17 -mmacosx-version-min=10.13 -fvisibility=hidden -g0 -stdlib=libc++\n",
      "  In file included from sinkhorn_663/skh_cpp.cpp:4:\n",
      "  /Users/flora/opt/anaconda3/lib/python3.8/site-packages/pybind11/include/pybind11/eigen.h:36:10: fatal error: 'Eigen/Core' file not found\n",
      "  #include <Eigen/Core>\n",
      "           ^~~~~~~~~~~~\n",
      "  1 error generated.\n",
      "  error: command 'gcc' failed with exit status 1\n",
      "  ----------------------------------------\u001b[0m\n",
      "\u001b[31m  ERROR: Failed building wheel for sinkhorn-663\u001b[0m\n",
      "\u001b[?25h  Running setup.py clean for sinkhorn-663\n",
      "Failed to build sinkhorn-663\n",
      "Installing collected packages: sinkhorn-663\n",
      "    Running setup.py install for sinkhorn-663 ... \u001b[?25lerror\n",
      "\u001b[31m    ERROR: Command errored out with exit status 1:\n",
      "     command: /Users/flora/opt/anaconda3/bin/python -u -c 'import sys, setuptools, tokenize; sys.argv[0] = '\"'\"'/private/var/folders/dg/d8_wtm952rsfp_znt4pcjxzw0000gn/T/pip-install-qmn6d4f6/sinkhorn-663/setup.py'\"'\"'; __file__='\"'\"'/private/var/folders/dg/d8_wtm952rsfp_znt4pcjxzw0000gn/T/pip-install-qmn6d4f6/sinkhorn-663/setup.py'\"'\"';f=getattr(tokenize, '\"'\"'open'\"'\"', open)(__file__);code=f.read().replace('\"'\"'\\r\\n'\"'\"', '\"'\"'\\n'\"'\"');f.close();exec(compile(code, __file__, '\"'\"'exec'\"'\"'))' install --record /private/var/folders/dg/d8_wtm952rsfp_znt4pcjxzw0000gn/T/pip-record-siakbsbh/install-record.txt --single-version-externally-managed --compile --install-headers /Users/flora/opt/anaconda3/include/python3.8/sinkhorn-663\n",
      "         cwd: /private/var/folders/dg/d8_wtm952rsfp_znt4pcjxzw0000gn/T/pip-install-qmn6d4f6/sinkhorn-663/\n",
      "    Complete output (28 lines):\n",
      "    running install\n",
      "    running build\n",
      "    running build_py\n",
      "    creating build\n",
      "    creating build/lib.macosx-10.9-x86_64-3.8\n",
      "    creating build/lib.macosx-10.9-x86_64-3.8/sinkhorn_663\n",
      "    copying sinkhorn_663/sinkhorn_numba.py -> build/lib.macosx-10.9-x86_64-3.8/sinkhorn_663\n",
      "    copying sinkhorn_663/sinkhorn_main.py -> build/lib.macosx-10.9-x86_64-3.8/sinkhorn_663\n",
      "    copying sinkhorn_663/__init__.py -> build/lib.macosx-10.9-x86_64-3.8/sinkhorn_663\n",
      "    copying sinkhorn_663/log_domain_skh.py -> build/lib.macosx-10.9-x86_64-3.8/sinkhorn_663\n",
      "    copying sinkhorn_663/sample_to_prob_vec.py -> build/lib.macosx-10.9-x86_64-3.8/sinkhorn_663\n",
      "    creating build/lib.macosx-10.9-x86_64-3.8/sinkhorn_663/image\n",
      "    copying sinkhorn_663/image/remove_zero.py -> build/lib.macosx-10.9-x86_64-3.8/sinkhorn_663/image\n",
      "    copying sinkhorn_663/image/flatten.py -> build/lib.macosx-10.9-x86_64-3.8/sinkhorn_663/image\n",
      "    copying sinkhorn_663/image/cost_mat.py -> build/lib.macosx-10.9-x86_64-3.8/sinkhorn_663/image\n",
      "    copying sinkhorn_663/image/__init__.py -> build/lib.macosx-10.9-x86_64-3.8/sinkhorn_663/image\n",
      "    running build_ext\n",
      "    gcc -Wno-unused-result -Wsign-compare -Wunreachable-code -DNDEBUG -g -fwrapv -O3 -Wall -Wstrict-prototypes -I/Users/flora/opt/anaconda3/include -arch x86_64 -I/Users/flora/opt/anaconda3/include -arch x86_64 -I/Users/flora/opt/anaconda3/include/python3.8 -c flagcheck.cpp -o flagcheck.o -std=c++17\n",
      "    building 'skh_cpp' extension\n",
      "    creating build/temp.macosx-10.9-x86_64-3.8\n",
      "    creating build/temp.macosx-10.9-x86_64-3.8/sinkhorn_663\n",
      "    gcc -Wno-unused-result -Wsign-compare -Wunreachable-code -DNDEBUG -g -fwrapv -O3 -Wall -Wstrict-prototypes -I/Users/flora/opt/anaconda3/include -arch x86_64 -I/Users/flora/opt/anaconda3/include -arch x86_64 -Isinkhorn_663 -I/Users/flora/opt/anaconda3/lib/python3.8/site-packages/pybind11/include -I/Users/flora/opt/anaconda3/include/python3.8 -c sinkhorn_663/skh_cpp.cpp -o build/temp.macosx-10.9-x86_64-3.8/sinkhorn_663/skh_cpp.o -std=c++17 -mmacosx-version-min=10.13 -fvisibility=hidden -g0 -stdlib=libc++\n",
      "    In file included from sinkhorn_663/skh_cpp.cpp:4:\n",
      "    /Users/flora/opt/anaconda3/lib/python3.8/site-packages/pybind11/include/pybind11/eigen.h:36:10: fatal error: 'Eigen/Core' file not found\n",
      "    #include <Eigen/Core>\n",
      "             ^~~~~~~~~~~~\n",
      "    1 error generated.\n",
      "    error: command 'gcc' failed with exit status 1\n",
      "    ----------------------------------------\u001b[0m\n",
      "\u001b[31mERROR: Command errored out with exit status 1: /Users/flora/opt/anaconda3/bin/python -u -c 'import sys, setuptools, tokenize; sys.argv[0] = '\"'\"'/private/var/folders/dg/d8_wtm952rsfp_znt4pcjxzw0000gn/T/pip-install-qmn6d4f6/sinkhorn-663/setup.py'\"'\"'; __file__='\"'\"'/private/var/folders/dg/d8_wtm952rsfp_znt4pcjxzw0000gn/T/pip-install-qmn6d4f6/sinkhorn-663/setup.py'\"'\"';f=getattr(tokenize, '\"'\"'open'\"'\"', open)(__file__);code=f.read().replace('\"'\"'\\r\\n'\"'\"', '\"'\"'\\n'\"'\"');f.close();exec(compile(code, __file__, '\"'\"'exec'\"'\"'))' install --record /private/var/folders/dg/d8_wtm952rsfp_znt4pcjxzw0000gn/T/pip-record-siakbsbh/install-record.txt --single-version-externally-managed --compile --install-headers /Users/flora/opt/anaconda3/include/python3.8/sinkhorn-663 Check the logs for full command output.\u001b[0m\n"
     ]
    },
    {
     "name": "stdout",
     "output_type": "stream",
     "text": [
      "\u001b[?25h"
     ]
    }
   ],
   "source": [
    "! pip install --index-url https://test.pypi.org/simple/ sinkhorn_663"
   ]
  },
  {
   "cell_type": "code",
   "execution_count": null,
   "metadata": {},
   "outputs": [],
   "source": []
  }
 ],
 "metadata": {
  "kernelspec": {
   "display_name": "Python 3",
   "language": "python",
   "name": "python3"
  },
  "language_info": {
   "codemirror_mode": {
    "name": "ipython",
    "version": 3
   },
   "file_extension": ".py",
   "mimetype": "text/x-python",
   "name": "python",
   "nbconvert_exporter": "python",
   "pygments_lexer": "ipython3",
   "version": "3.8.5"
  }
 },
 "nbformat": 4,
 "nbformat_minor": 1
}
